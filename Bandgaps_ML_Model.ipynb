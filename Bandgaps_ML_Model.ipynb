{
  "nbformat": 4,
  "nbformat_minor": 0,
  "metadata": {
    "colab": {
      "provenance": [],
      "authorship_tag": "ABX9TyNeT3Jr5y2KBnkCdWPdP1gX",
      "include_colab_link": true
    },
    "kernelspec": {
      "name": "python3",
      "display_name": "Python 3"
    },
    "language_info": {
      "name": "python"
    },
    "widgets": {
      "application/vnd.jupyter.widget-state+json": {
        "038e645e42f64e1ba8f35d0b5121c887": {
          "model_module": "@jupyter-widgets/controls",
          "model_name": "HBoxModel",
          "model_module_version": "1.5.0",
          "state": {
            "_dom_classes": [],
            "_model_module": "@jupyter-widgets/controls",
            "_model_module_version": "1.5.0",
            "_model_name": "HBoxModel",
            "_view_count": null,
            "_view_module": "@jupyter-widgets/controls",
            "_view_module_version": "1.5.0",
            "_view_name": "HBoxView",
            "box_style": "",
            "children": [
              "IPY_MODEL_ba9bea0e275b42cfa597130d3771e8d3",
              "IPY_MODEL_3b2adb2c35ab46ca900248b27cfb94b2",
              "IPY_MODEL_8be8e6a0bb73496d94fd16b2dfff88dc"
            ],
            "layout": "IPY_MODEL_3589b4f9701a4c0fabd35ea723c1151e"
          }
        },
        "ba9bea0e275b42cfa597130d3771e8d3": {
          "model_module": "@jupyter-widgets/controls",
          "model_name": "HTMLModel",
          "model_module_version": "1.5.0",
          "state": {
            "_dom_classes": [],
            "_model_module": "@jupyter-widgets/controls",
            "_model_module_version": "1.5.0",
            "_model_name": "HTMLModel",
            "_view_count": null,
            "_view_module": "@jupyter-widgets/controls",
            "_view_module_version": "1.5.0",
            "_view_name": "HTMLView",
            "description": "",
            "description_tooltip": null,
            "layout": "IPY_MODEL_ab275a6202da4ead8ad6d7c331818bc8",
            "placeholder": "​",
            "style": "IPY_MODEL_a19768a09f334765b99e489a57576561",
            "value": "Retrieving SummaryDoc documents: 100%"
          }
        },
        "3b2adb2c35ab46ca900248b27cfb94b2": {
          "model_module": "@jupyter-widgets/controls",
          "model_name": "FloatProgressModel",
          "model_module_version": "1.5.0",
          "state": {
            "_dom_classes": [],
            "_model_module": "@jupyter-widgets/controls",
            "_model_module_version": "1.5.0",
            "_model_name": "FloatProgressModel",
            "_view_count": null,
            "_view_module": "@jupyter-widgets/controls",
            "_view_module_version": "1.5.0",
            "_view_name": "ProgressView",
            "bar_style": "success",
            "description": "",
            "description_tooltip": null,
            "layout": "IPY_MODEL_5b78b531ac7b477c9e1f2406c2b38cb5",
            "max": 81998,
            "min": 0,
            "orientation": "horizontal",
            "style": "IPY_MODEL_9314266b6d6747faa5d6d2f54aaeea7b",
            "value": 81998
          }
        },
        "8be8e6a0bb73496d94fd16b2dfff88dc": {
          "model_module": "@jupyter-widgets/controls",
          "model_name": "HTMLModel",
          "model_module_version": "1.5.0",
          "state": {
            "_dom_classes": [],
            "_model_module": "@jupyter-widgets/controls",
            "_model_module_version": "1.5.0",
            "_model_name": "HTMLModel",
            "_view_count": null,
            "_view_module": "@jupyter-widgets/controls",
            "_view_module_version": "1.5.0",
            "_view_name": "HTMLView",
            "description": "",
            "description_tooltip": null,
            "layout": "IPY_MODEL_e766b7dff35643b1b5223f09a632eb6b",
            "placeholder": "​",
            "style": "IPY_MODEL_25e3a0a76cd049e1994acb3535748442",
            "value": " 81998/81998 [24:23&lt;00:00, 97.91it/s]"
          }
        },
        "3589b4f9701a4c0fabd35ea723c1151e": {
          "model_module": "@jupyter-widgets/base",
          "model_name": "LayoutModel",
          "model_module_version": "1.2.0",
          "state": {
            "_model_module": "@jupyter-widgets/base",
            "_model_module_version": "1.2.0",
            "_model_name": "LayoutModel",
            "_view_count": null,
            "_view_module": "@jupyter-widgets/base",
            "_view_module_version": "1.2.0",
            "_view_name": "LayoutView",
            "align_content": null,
            "align_items": null,
            "align_self": null,
            "border": null,
            "bottom": null,
            "display": null,
            "flex": null,
            "flex_flow": null,
            "grid_area": null,
            "grid_auto_columns": null,
            "grid_auto_flow": null,
            "grid_auto_rows": null,
            "grid_column": null,
            "grid_gap": null,
            "grid_row": null,
            "grid_template_areas": null,
            "grid_template_columns": null,
            "grid_template_rows": null,
            "height": null,
            "justify_content": null,
            "justify_items": null,
            "left": null,
            "margin": null,
            "max_height": null,
            "max_width": null,
            "min_height": null,
            "min_width": null,
            "object_fit": null,
            "object_position": null,
            "order": null,
            "overflow": null,
            "overflow_x": null,
            "overflow_y": null,
            "padding": null,
            "right": null,
            "top": null,
            "visibility": null,
            "width": null
          }
        },
        "ab275a6202da4ead8ad6d7c331818bc8": {
          "model_module": "@jupyter-widgets/base",
          "model_name": "LayoutModel",
          "model_module_version": "1.2.0",
          "state": {
            "_model_module": "@jupyter-widgets/base",
            "_model_module_version": "1.2.0",
            "_model_name": "LayoutModel",
            "_view_count": null,
            "_view_module": "@jupyter-widgets/base",
            "_view_module_version": "1.2.0",
            "_view_name": "LayoutView",
            "align_content": null,
            "align_items": null,
            "align_self": null,
            "border": null,
            "bottom": null,
            "display": null,
            "flex": null,
            "flex_flow": null,
            "grid_area": null,
            "grid_auto_columns": null,
            "grid_auto_flow": null,
            "grid_auto_rows": null,
            "grid_column": null,
            "grid_gap": null,
            "grid_row": null,
            "grid_template_areas": null,
            "grid_template_columns": null,
            "grid_template_rows": null,
            "height": null,
            "justify_content": null,
            "justify_items": null,
            "left": null,
            "margin": null,
            "max_height": null,
            "max_width": null,
            "min_height": null,
            "min_width": null,
            "object_fit": null,
            "object_position": null,
            "order": null,
            "overflow": null,
            "overflow_x": null,
            "overflow_y": null,
            "padding": null,
            "right": null,
            "top": null,
            "visibility": null,
            "width": null
          }
        },
        "a19768a09f334765b99e489a57576561": {
          "model_module": "@jupyter-widgets/controls",
          "model_name": "DescriptionStyleModel",
          "model_module_version": "1.5.0",
          "state": {
            "_model_module": "@jupyter-widgets/controls",
            "_model_module_version": "1.5.0",
            "_model_name": "DescriptionStyleModel",
            "_view_count": null,
            "_view_module": "@jupyter-widgets/base",
            "_view_module_version": "1.2.0",
            "_view_name": "StyleView",
            "description_width": ""
          }
        },
        "5b78b531ac7b477c9e1f2406c2b38cb5": {
          "model_module": "@jupyter-widgets/base",
          "model_name": "LayoutModel",
          "model_module_version": "1.2.0",
          "state": {
            "_model_module": "@jupyter-widgets/base",
            "_model_module_version": "1.2.0",
            "_model_name": "LayoutModel",
            "_view_count": null,
            "_view_module": "@jupyter-widgets/base",
            "_view_module_version": "1.2.0",
            "_view_name": "LayoutView",
            "align_content": null,
            "align_items": null,
            "align_self": null,
            "border": null,
            "bottom": null,
            "display": null,
            "flex": null,
            "flex_flow": null,
            "grid_area": null,
            "grid_auto_columns": null,
            "grid_auto_flow": null,
            "grid_auto_rows": null,
            "grid_column": null,
            "grid_gap": null,
            "grid_row": null,
            "grid_template_areas": null,
            "grid_template_columns": null,
            "grid_template_rows": null,
            "height": null,
            "justify_content": null,
            "justify_items": null,
            "left": null,
            "margin": null,
            "max_height": null,
            "max_width": null,
            "min_height": null,
            "min_width": null,
            "object_fit": null,
            "object_position": null,
            "order": null,
            "overflow": null,
            "overflow_x": null,
            "overflow_y": null,
            "padding": null,
            "right": null,
            "top": null,
            "visibility": null,
            "width": null
          }
        },
        "9314266b6d6747faa5d6d2f54aaeea7b": {
          "model_module": "@jupyter-widgets/controls",
          "model_name": "ProgressStyleModel",
          "model_module_version": "1.5.0",
          "state": {
            "_model_module": "@jupyter-widgets/controls",
            "_model_module_version": "1.5.0",
            "_model_name": "ProgressStyleModel",
            "_view_count": null,
            "_view_module": "@jupyter-widgets/base",
            "_view_module_version": "1.2.0",
            "_view_name": "StyleView",
            "bar_color": null,
            "description_width": ""
          }
        },
        "e766b7dff35643b1b5223f09a632eb6b": {
          "model_module": "@jupyter-widgets/base",
          "model_name": "LayoutModel",
          "model_module_version": "1.2.0",
          "state": {
            "_model_module": "@jupyter-widgets/base",
            "_model_module_version": "1.2.0",
            "_model_name": "LayoutModel",
            "_view_count": null,
            "_view_module": "@jupyter-widgets/base",
            "_view_module_version": "1.2.0",
            "_view_name": "LayoutView",
            "align_content": null,
            "align_items": null,
            "align_self": null,
            "border": null,
            "bottom": null,
            "display": null,
            "flex": null,
            "flex_flow": null,
            "grid_area": null,
            "grid_auto_columns": null,
            "grid_auto_flow": null,
            "grid_auto_rows": null,
            "grid_column": null,
            "grid_gap": null,
            "grid_row": null,
            "grid_template_areas": null,
            "grid_template_columns": null,
            "grid_template_rows": null,
            "height": null,
            "justify_content": null,
            "justify_items": null,
            "left": null,
            "margin": null,
            "max_height": null,
            "max_width": null,
            "min_height": null,
            "min_width": null,
            "object_fit": null,
            "object_position": null,
            "order": null,
            "overflow": null,
            "overflow_x": null,
            "overflow_y": null,
            "padding": null,
            "right": null,
            "top": null,
            "visibility": null,
            "width": null
          }
        },
        "25e3a0a76cd049e1994acb3535748442": {
          "model_module": "@jupyter-widgets/controls",
          "model_name": "DescriptionStyleModel",
          "model_module_version": "1.5.0",
          "state": {
            "_model_module": "@jupyter-widgets/controls",
            "_model_module_version": "1.5.0",
            "_model_name": "DescriptionStyleModel",
            "_view_count": null,
            "_view_module": "@jupyter-widgets/base",
            "_view_module_version": "1.2.0",
            "_view_name": "StyleView",
            "description_width": ""
          }
        }
      }
    }
  },
  "cells": [
    {
      "cell_type": "markdown",
      "metadata": {
        "id": "view-in-github",
        "colab_type": "text"
      },
      "source": [
        "<a href=\"https://colab.research.google.com/github/immischein/ML-bandgap/blob/immanuel_code/Bandgaps_ML_Model.ipynb\" target=\"_parent\"><img src=\"https://colab.research.google.com/assets/colab-badge.svg\" alt=\"Open In Colab\"/></a>"
      ]
    },
    {
      "cell_type": "markdown",
      "source": [
        "# Installing library and imports"
      ],
      "metadata": {
        "id": "MvzGyxw2nqsV"
      }
    },
    {
      "cell_type": "code",
      "source": [
        "# You might need to reinstall the library manually, imports ans pip install:\n",
        "!pip install mp_api"
      ],
      "metadata": {
        "collapsed": true,
        "id": "4HLln7SrdSFU",
        "outputId": "0f1deb62-f767-4d7e-e496-3362f08668d5",
        "colab": {
          "base_uri": "https://localhost:8080/"
        }
      },
      "execution_count": null,
      "outputs": [
        {
          "output_type": "stream",
          "name": "stdout",
          "text": [
            "Collecting mp_api\n",
            "  Downloading mp_api-0.45.5-py3-none-any.whl.metadata (2.3 kB)\n",
            "Requirement already satisfied: setuptools in /usr/local/lib/python3.11/dist-packages (from mp_api) (75.2.0)\n",
            "Requirement already satisfied: msgpack in /usr/local/lib/python3.11/dist-packages (from mp_api) (1.1.0)\n",
            "Collecting maggma>=0.57.1 (from mp_api)\n",
            "  Downloading maggma-0.71.5-py3-none-any.whl.metadata (11 kB)\n",
            "Collecting pymatgen!=2024.2.20,>=2022.3.7 (from mp_api)\n",
            "  Downloading pymatgen-2025.5.2-cp311-cp311-manylinux_2_17_x86_64.manylinux2014_x86_64.whl.metadata (13 kB)\n",
            "Requirement already satisfied: typing-extensions>=3.7.4.1 in /usr/local/lib/python3.11/dist-packages (from mp_api) (4.13.2)\n",
            "Requirement already satisfied: requests>=2.23.0 in /usr/local/lib/python3.11/dist-packages (from mp_api) (2.32.3)\n",
            "Collecting monty>=2024.12.10 (from mp_api)\n",
            "  Downloading monty-2025.3.3-py3-none-any.whl.metadata (3.6 kB)\n",
            "Collecting emmet-core>=0.84.3rc6 (from mp_api)\n",
            "  Downloading emmet_core-0.84.7rc1-py3-none-any.whl.metadata (3.0 kB)\n",
            "Requirement already satisfied: smart_open in /usr/local/lib/python3.11/dist-packages (from mp_api) (7.1.0)\n",
            "Requirement already satisfied: pydantic>=2.0 in /usr/local/lib/python3.11/dist-packages (from emmet-core>=0.84.3rc6->mp_api) (2.11.4)\n",
            "Collecting pydantic-settings>=2.0 (from emmet-core>=0.84.3rc6->mp_api)\n",
            "  Downloading pydantic_settings-2.9.1-py3-none-any.whl.metadata (3.8 kB)\n",
            "Collecting pybtex~=0.24 (from emmet-core>=0.84.3rc6->mp_api)\n",
            "  Downloading pybtex-0.24.0-py2.py3-none-any.whl.metadata (2.0 kB)\n",
            "Collecting ruamel.yaml>=0.17 (from maggma>=0.57.1->mp_api)\n",
            "  Downloading ruamel.yaml-0.18.10-py3-none-any.whl.metadata (23 kB)\n",
            "Collecting pymongo<4.11,>=4.2.0 (from maggma>=0.57.1->mp_api)\n",
            "  Downloading pymongo-4.10.1-cp311-cp311-manylinux_2_17_x86_64.manylinux2014_x86_64.whl.metadata (22 kB)\n",
            "Collecting mongomock>=3.10.0 (from maggma>=0.57.1->mp_api)\n",
            "  Downloading mongomock-4.3.0-py2.py3-none-any.whl.metadata (12 kB)\n",
            "Collecting pydash>=4.1.0 (from maggma>=0.57.1->mp_api)\n",
            "  Downloading pydash-8.0.5-py3-none-any.whl.metadata (4.5 kB)\n",
            "Requirement already satisfied: jsonschema>=3.1.1 in /usr/local/lib/python3.11/dist-packages (from maggma>=0.57.1->mp_api) (4.23.0)\n",
            "Requirement already satisfied: tqdm>=4.19.6 in /usr/local/lib/python3.11/dist-packages (from maggma>=0.57.1->mp_api) (4.67.1)\n",
            "Requirement already satisfied: pandas>=2.2 in /usr/local/lib/python3.11/dist-packages (from maggma>=0.57.1->mp_api) (2.2.2)\n",
            "Collecting jsonlines>=4.0.0 (from maggma>=0.57.1->mp_api)\n",
            "  Downloading jsonlines-4.0.0-py3-none-any.whl.metadata (1.6 kB)\n",
            "Collecting aioitertools>=0.5.1 (from maggma>=0.57.1->mp_api)\n",
            "  Downloading aioitertools-0.12.0-py3-none-any.whl.metadata (3.8 kB)\n",
            "Requirement already satisfied: numpy>=1.26 in /usr/local/lib/python3.11/dist-packages (from maggma>=0.57.1->mp_api) (2.0.2)\n",
            "Collecting pyzmq>=25.1.1 (from maggma>=0.57.1->mp_api)\n",
            "  Downloading pyzmq-26.4.0-cp311-cp311-manylinux_2_28_x86_64.whl.metadata (6.0 kB)\n",
            "Collecting dnspython>=1.16.0 (from maggma>=0.57.1->mp_api)\n",
            "  Downloading dnspython-2.7.0-py3-none-any.whl.metadata (5.8 kB)\n",
            "Collecting sshtunnel>=0.1.5 (from maggma>=0.57.1->mp_api)\n",
            "  Downloading sshtunnel-0.4.0-py2.py3-none-any.whl.metadata (19 kB)\n",
            "Requirement already satisfied: orjson>=3.9.0 in /usr/local/lib/python3.11/dist-packages (from maggma>=0.57.1->mp_api) (3.10.18)\n",
            "Collecting boto3>=1.20.41 (from maggma>=0.57.1->mp_api)\n",
            "  Downloading boto3-1.38.9-py3-none-any.whl.metadata (6.6 kB)\n",
            "Requirement already satisfied: python-dateutil>=2.8.2 in /usr/local/lib/python3.11/dist-packages (from maggma>=0.57.1->mp_api) (2.9.0.post0)\n",
            "Requirement already satisfied: joblib>=1 in /usr/local/lib/python3.11/dist-packages (from pymatgen!=2024.2.20,>=2022.3.7->mp_api) (1.4.2)\n",
            "Requirement already satisfied: matplotlib>=3.8 in /usr/local/lib/python3.11/dist-packages (from pymatgen!=2024.2.20,>=2022.3.7->mp_api) (3.10.0)\n",
            "Requirement already satisfied: networkx>=2.7 in /usr/local/lib/python3.11/dist-packages (from pymatgen!=2024.2.20,>=2022.3.7->mp_api) (3.4.2)\n",
            "Collecting palettable>=3.3.3 (from pymatgen!=2024.2.20,>=2022.3.7->mp_api)\n",
            "  Downloading palettable-3.3.3-py2.py3-none-any.whl.metadata (3.3 kB)\n",
            "Requirement already satisfied: plotly>=5.0.0 in /usr/local/lib/python3.11/dist-packages (from pymatgen!=2024.2.20,>=2022.3.7->mp_api) (5.24.1)\n",
            "Collecting bibtexparser>=1.4.0 (from pymatgen!=2024.2.20,>=2022.3.7->mp_api)\n",
            "  Downloading bibtexparser-1.4.3.tar.gz (55 kB)\n",
            "\u001b[2K     \u001b[90m━━━━━━━━━━━━━━━━━━━━━━━━━━━━━━━━━━━━━━━━\u001b[0m \u001b[32m55.6/55.6 kB\u001b[0m \u001b[31m2.3 MB/s\u001b[0m eta \u001b[36m0:00:00\u001b[0m\n",
            "\u001b[?25h  Preparing metadata (setup.py) ... \u001b[?25l\u001b[?25hdone\n",
            "Requirement already satisfied: scipy>=1.13.0 in /usr/local/lib/python3.11/dist-packages (from pymatgen!=2024.2.20,>=2022.3.7->mp_api) (1.15.2)\n",
            "Collecting spglib>=2.5 (from pymatgen!=2024.2.20,>=2022.3.7->mp_api)\n",
            "  Downloading spglib-2.6.0-cp311-cp311-manylinux_2_17_x86_64.manylinux2014_x86_64.whl.metadata (4.2 kB)\n",
            "Requirement already satisfied: sympy>=1.3 in /usr/local/lib/python3.11/dist-packages (from pymatgen!=2024.2.20,>=2022.3.7->mp_api) (1.13.1)\n",
            "Requirement already satisfied: tabulate>=0.9 in /usr/local/lib/python3.11/dist-packages (from pymatgen!=2024.2.20,>=2022.3.7->mp_api) (0.9.0)\n",
            "Collecting uncertainties>=3.1.4 (from pymatgen!=2024.2.20,>=2022.3.7->mp_api)\n",
            "  Downloading uncertainties-3.2.3-py3-none-any.whl.metadata (7.0 kB)\n",
            "Requirement already satisfied: charset-normalizer<4,>=2 in /usr/local/lib/python3.11/dist-packages (from requests>=2.23.0->mp_api) (3.4.1)\n",
            "Requirement already satisfied: idna<4,>=2.5 in /usr/local/lib/python3.11/dist-packages (from requests>=2.23.0->mp_api) (3.10)\n",
            "Requirement already satisfied: urllib3<3,>=1.21.1 in /usr/local/lib/python3.11/dist-packages (from requests>=2.23.0->mp_api) (2.4.0)\n",
            "Requirement already satisfied: certifi>=2017.4.17 in /usr/local/lib/python3.11/dist-packages (from requests>=2.23.0->mp_api) (2025.4.26)\n",
            "Requirement already satisfied: wrapt in /usr/local/lib/python3.11/dist-packages (from smart_open->mp_api) (1.17.2)\n",
            "Requirement already satisfied: pyparsing>=2.0.3 in /usr/local/lib/python3.11/dist-packages (from bibtexparser>=1.4.0->pymatgen!=2024.2.20,>=2022.3.7->mp_api) (3.2.3)\n",
            "Collecting botocore<1.39.0,>=1.38.9 (from boto3>=1.20.41->maggma>=0.57.1->mp_api)\n",
            "  Downloading botocore-1.38.9-py3-none-any.whl.metadata (5.7 kB)\n",
            "Collecting jmespath<2.0.0,>=0.7.1 (from boto3>=1.20.41->maggma>=0.57.1->mp_api)\n",
            "  Downloading jmespath-1.0.1-py3-none-any.whl.metadata (7.6 kB)\n",
            "Collecting s3transfer<0.13.0,>=0.12.0 (from boto3>=1.20.41->maggma>=0.57.1->mp_api)\n",
            "  Downloading s3transfer-0.12.0-py3-none-any.whl.metadata (1.7 kB)\n",
            "Requirement already satisfied: attrs>=19.2.0 in /usr/local/lib/python3.11/dist-packages (from jsonlines>=4.0.0->maggma>=0.57.1->mp_api) (25.3.0)\n",
            "Requirement already satisfied: jsonschema-specifications>=2023.03.6 in /usr/local/lib/python3.11/dist-packages (from jsonschema>=3.1.1->maggma>=0.57.1->mp_api) (2025.4.1)\n",
            "Requirement already satisfied: referencing>=0.28.4 in /usr/local/lib/python3.11/dist-packages (from jsonschema>=3.1.1->maggma>=0.57.1->mp_api) (0.36.2)\n",
            "Requirement already satisfied: rpds-py>=0.7.1 in /usr/local/lib/python3.11/dist-packages (from jsonschema>=3.1.1->maggma>=0.57.1->mp_api) (0.24.0)\n",
            "Requirement already satisfied: contourpy>=1.0.1 in /usr/local/lib/python3.11/dist-packages (from matplotlib>=3.8->pymatgen!=2024.2.20,>=2022.3.7->mp_api) (1.3.2)\n",
            "Requirement already satisfied: cycler>=0.10 in /usr/local/lib/python3.11/dist-packages (from matplotlib>=3.8->pymatgen!=2024.2.20,>=2022.3.7->mp_api) (0.12.1)\n",
            "Requirement already satisfied: fonttools>=4.22.0 in /usr/local/lib/python3.11/dist-packages (from matplotlib>=3.8->pymatgen!=2024.2.20,>=2022.3.7->mp_api) (4.57.0)\n",
            "Requirement already satisfied: kiwisolver>=1.3.1 in /usr/local/lib/python3.11/dist-packages (from matplotlib>=3.8->pymatgen!=2024.2.20,>=2022.3.7->mp_api) (1.4.8)\n",
            "Requirement already satisfied: packaging>=20.0 in /usr/local/lib/python3.11/dist-packages (from matplotlib>=3.8->pymatgen!=2024.2.20,>=2022.3.7->mp_api) (24.2)\n",
            "Requirement already satisfied: pillow>=8 in /usr/local/lib/python3.11/dist-packages (from matplotlib>=3.8->pymatgen!=2024.2.20,>=2022.3.7->mp_api) (11.2.1)\n",
            "Requirement already satisfied: pytz in /usr/local/lib/python3.11/dist-packages (from mongomock>=3.10.0->maggma>=0.57.1->mp_api) (2025.2)\n",
            "Collecting sentinels (from mongomock>=3.10.0->maggma>=0.57.1->mp_api)\n",
            "  Downloading sentinels-1.0.0.tar.gz (4.1 kB)\n",
            "  Preparing metadata (setup.py) ... \u001b[?25l\u001b[?25hdone\n",
            "Requirement already satisfied: tzdata>=2022.7 in /usr/local/lib/python3.11/dist-packages (from pandas>=2.2->maggma>=0.57.1->mp_api) (2025.2)\n",
            "Requirement already satisfied: tenacity>=6.2.0 in /usr/local/lib/python3.11/dist-packages (from plotly>=5.0.0->pymatgen!=2024.2.20,>=2022.3.7->mp_api) (9.1.2)\n",
            "Requirement already satisfied: PyYAML>=3.01 in /usr/local/lib/python3.11/dist-packages (from pybtex~=0.24->emmet-core>=0.84.3rc6->mp_api) (6.0.2)\n",
            "Collecting latexcodec>=1.0.4 (from pybtex~=0.24->emmet-core>=0.84.3rc6->mp_api)\n",
            "  Downloading latexcodec-3.0.0-py3-none-any.whl.metadata (4.9 kB)\n",
            "Requirement already satisfied: six in /usr/local/lib/python3.11/dist-packages (from pybtex~=0.24->emmet-core>=0.84.3rc6->mp_api) (1.17.0)\n",
            "Requirement already satisfied: annotated-types>=0.6.0 in /usr/local/lib/python3.11/dist-packages (from pydantic>=2.0->emmet-core>=0.84.3rc6->mp_api) (0.7.0)\n",
            "Requirement already satisfied: pydantic-core==2.33.2 in /usr/local/lib/python3.11/dist-packages (from pydantic>=2.0->emmet-core>=0.84.3rc6->mp_api) (2.33.2)\n",
            "Requirement already satisfied: typing-inspection>=0.4.0 in /usr/local/lib/python3.11/dist-packages (from pydantic>=2.0->emmet-core>=0.84.3rc6->mp_api) (0.4.0)\n",
            "Collecting python-dotenv>=0.21.0 (from pydantic-settings>=2.0->emmet-core>=0.84.3rc6->mp_api)\n",
            "  Downloading python_dotenv-1.1.0-py3-none-any.whl.metadata (24 kB)\n",
            "Collecting ruamel.yaml.clib>=0.2.7 (from ruamel.yaml>=0.17->maggma>=0.57.1->mp_api)\n",
            "  Downloading ruamel.yaml.clib-0.2.12-cp311-cp311-manylinux_2_17_x86_64.manylinux2014_x86_64.whl.metadata (2.7 kB)\n",
            "Collecting paramiko>=2.7.2 (from sshtunnel>=0.1.5->maggma>=0.57.1->mp_api)\n",
            "  Downloading paramiko-3.5.1-py3-none-any.whl.metadata (4.6 kB)\n",
            "Requirement already satisfied: mpmath<1.4,>=1.1.0 in /usr/local/lib/python3.11/dist-packages (from sympy>=1.3->pymatgen!=2024.2.20,>=2022.3.7->mp_api) (1.3.0)\n",
            "Collecting bcrypt>=3.2 (from paramiko>=2.7.2->sshtunnel>=0.1.5->maggma>=0.57.1->mp_api)\n",
            "  Downloading bcrypt-4.3.0-cp39-abi3-manylinux_2_34_x86_64.whl.metadata (10 kB)\n",
            "Requirement already satisfied: cryptography>=3.3 in /usr/local/lib/python3.11/dist-packages (from paramiko>=2.7.2->sshtunnel>=0.1.5->maggma>=0.57.1->mp_api) (43.0.3)\n",
            "Collecting pynacl>=1.5 (from paramiko>=2.7.2->sshtunnel>=0.1.5->maggma>=0.57.1->mp_api)\n",
            "  Downloading PyNaCl-1.5.0-cp36-abi3-manylinux_2_17_x86_64.manylinux2014_x86_64.manylinux_2_24_x86_64.whl.metadata (8.6 kB)\n",
            "Requirement already satisfied: cffi>=1.12 in /usr/local/lib/python3.11/dist-packages (from cryptography>=3.3->paramiko>=2.7.2->sshtunnel>=0.1.5->maggma>=0.57.1->mp_api) (1.17.1)\n",
            "Requirement already satisfied: pycparser in /usr/local/lib/python3.11/dist-packages (from cffi>=1.12->cryptography>=3.3->paramiko>=2.7.2->sshtunnel>=0.1.5->maggma>=0.57.1->mp_api) (2.22)\n",
            "Downloading mp_api-0.45.5-py3-none-any.whl (99 kB)\n",
            "\u001b[2K   \u001b[90m━━━━━━━━━━━━━━━━━━━━━━━━━━━━━━━━━━━━━━━━\u001b[0m \u001b[32m99.4/99.4 kB\u001b[0m \u001b[31m3.7 MB/s\u001b[0m eta \u001b[36m0:00:00\u001b[0m\n",
            "\u001b[?25hDownloading emmet_core-0.84.7rc1-py3-none-any.whl (217 kB)\n",
            "\u001b[2K   \u001b[90m━━━━━━━━━━━━━━━━━━━━━━━━━━━━━━━━━━━━━━━━\u001b[0m \u001b[32m217.1/217.1 kB\u001b[0m \u001b[31m8.3 MB/s\u001b[0m eta \u001b[36m0:00:00\u001b[0m\n",
            "\u001b[?25hDownloading maggma-0.71.5-py3-none-any.whl (122 kB)\n",
            "\u001b[2K   \u001b[90m━━━━━━━━━━━━━━━━━━━━━━━━━━━━━━━━━━━━━━━━\u001b[0m \u001b[32m122.6/122.6 kB\u001b[0m \u001b[31m6.1 MB/s\u001b[0m eta \u001b[36m0:00:00\u001b[0m\n",
            "\u001b[?25hDownloading monty-2025.3.3-py3-none-any.whl (51 kB)\n",
            "\u001b[2K   \u001b[90m━━━━━━━━━━━━━━━━━━━━━━━━━━━━━━━━━━━━━━━━\u001b[0m \u001b[32m51.9/51.9 kB\u001b[0m \u001b[31m2.9 MB/s\u001b[0m eta \u001b[36m0:00:00\u001b[0m\n",
            "\u001b[?25hDownloading pymatgen-2025.5.2-cp311-cp311-manylinux_2_17_x86_64.manylinux2014_x86_64.whl (5.1 MB)\n",
            "\u001b[2K   \u001b[90m━━━━━━━━━━━━━━━━━━━━━━━━━━━━━━━━━━━━━━━━\u001b[0m \u001b[32m5.1/5.1 MB\u001b[0m \u001b[31m50.4 MB/s\u001b[0m eta \u001b[36m0:00:00\u001b[0m\n",
            "\u001b[?25hDownloading aioitertools-0.12.0-py3-none-any.whl (24 kB)\n",
            "Downloading boto3-1.38.9-py3-none-any.whl (139 kB)\n",
            "\u001b[2K   \u001b[90m━━━━━━━━━━━━━━━━━━━━━━━━━━━━━━━━━━━━━━━━\u001b[0m \u001b[32m139.9/139.9 kB\u001b[0m \u001b[31m7.2 MB/s\u001b[0m eta \u001b[36m0:00:00\u001b[0m\n",
            "\u001b[?25hDownloading dnspython-2.7.0-py3-none-any.whl (313 kB)\n",
            "\u001b[2K   \u001b[90m━━━━━━━━━━━━━━━━━━━━━━━━━━━━━━━━━━━━━━━━\u001b[0m \u001b[32m313.6/313.6 kB\u001b[0m \u001b[31m10.1 MB/s\u001b[0m eta \u001b[36m0:00:00\u001b[0m\n",
            "\u001b[?25hDownloading jsonlines-4.0.0-py3-none-any.whl (8.7 kB)\n",
            "Downloading mongomock-4.3.0-py2.py3-none-any.whl (64 kB)\n",
            "\u001b[2K   \u001b[90m━━━━━━━━━━━━━━━━━━━━━━━━━━━━━━━━━━━━━━━━\u001b[0m \u001b[32m64.9/64.9 kB\u001b[0m \u001b[31m3.9 MB/s\u001b[0m eta \u001b[36m0:00:00\u001b[0m\n",
            "\u001b[?25hDownloading palettable-3.3.3-py2.py3-none-any.whl (332 kB)\n",
            "\u001b[2K   \u001b[90m━━━━━━━━━━━━━━━━━━━━━━━━━━━━━━━━━━━━━━━━\u001b[0m \u001b[32m332.3/332.3 kB\u001b[0m \u001b[31m16.0 MB/s\u001b[0m eta \u001b[36m0:00:00\u001b[0m\n",
            "\u001b[?25hDownloading pybtex-0.24.0-py2.py3-none-any.whl (561 kB)\n",
            "\u001b[2K   \u001b[90m━━━━━━━━━━━━━━━━━━━━━━━━━━━━━━━━━━━━━━━━\u001b[0m \u001b[32m561.4/561.4 kB\u001b[0m \u001b[31m22.2 MB/s\u001b[0m eta \u001b[36m0:00:00\u001b[0m\n",
            "\u001b[?25hDownloading pydantic_settings-2.9.1-py3-none-any.whl (44 kB)\n",
            "\u001b[2K   \u001b[90m━━━━━━━━━━━━━━━━━━━━━━━━━━━━━━━━━━━━━━━━\u001b[0m \u001b[32m44.4/44.4 kB\u001b[0m \u001b[31m1.9 MB/s\u001b[0m eta \u001b[36m0:00:00\u001b[0m\n",
            "\u001b[?25hDownloading pydash-8.0.5-py3-none-any.whl (102 kB)\n",
            "\u001b[2K   \u001b[90m━━━━━━━━━━━━━━━━━━━━━━━━━━━━━━━━━━━━━━━━\u001b[0m \u001b[32m102.1/102.1 kB\u001b[0m \u001b[31m5.9 MB/s\u001b[0m eta \u001b[36m0:00:00\u001b[0m\n",
            "\u001b[?25hDownloading pymongo-4.10.1-cp311-cp311-manylinux_2_17_x86_64.manylinux2014_x86_64.whl (1.7 MB)\n",
            "\u001b[2K   \u001b[90m━━━━━━━━━━━━━━━━━━━━━━━━━━━━━━━━━━━━━━━━\u001b[0m \u001b[32m1.7/1.7 MB\u001b[0m \u001b[31m34.1 MB/s\u001b[0m eta \u001b[36m0:00:00\u001b[0m\n",
            "\u001b[?25hDownloading pyzmq-26.4.0-cp311-cp311-manylinux_2_28_x86_64.whl (862 kB)\n",
            "\u001b[2K   \u001b[90m━━━━━━━━━━━━━━━━━━━━━━━━━━━━━━━━━━━━━━━━\u001b[0m \u001b[32m862.4/862.4 kB\u001b[0m \u001b[31m29.1 MB/s\u001b[0m eta \u001b[36m0:00:00\u001b[0m\n",
            "\u001b[?25hDownloading ruamel.yaml-0.18.10-py3-none-any.whl (117 kB)\n",
            "\u001b[2K   \u001b[90m━━━━━━━━━━━━━━━━━━━━━━━━━━━━━━━━━━━━━━━━\u001b[0m \u001b[32m117.7/117.7 kB\u001b[0m \u001b[31m5.4 MB/s\u001b[0m eta \u001b[36m0:00:00\u001b[0m\n",
            "\u001b[?25hDownloading spglib-2.6.0-cp311-cp311-manylinux_2_17_x86_64.manylinux2014_x86_64.whl (809 kB)\n",
            "\u001b[2K   \u001b[90m━━━━━━━━━━━━━━━━━━━━━━━━━━━━━━━━━━━━━━━━\u001b[0m \u001b[32m809.0/809.0 kB\u001b[0m \u001b[31m22.4 MB/s\u001b[0m eta \u001b[36m0:00:00\u001b[0m\n",
            "\u001b[?25hDownloading sshtunnel-0.4.0-py2.py3-none-any.whl (24 kB)\n",
            "Downloading uncertainties-3.2.3-py3-none-any.whl (60 kB)\n",
            "\u001b[2K   \u001b[90m━━━━━━━━━━━━━━━━━━━━━━━━━━━━━━━━━━━━━━━━\u001b[0m \u001b[32m60.1/60.1 kB\u001b[0m \u001b[31m2.4 MB/s\u001b[0m eta \u001b[36m0:00:00\u001b[0m\n",
            "\u001b[?25hDownloading botocore-1.38.9-py3-none-any.whl (13.5 MB)\n",
            "\u001b[2K   \u001b[90m━━━━━━━━━━━━━━━━━━━━━━━━━━━━━━━━━━━━━━━━\u001b[0m \u001b[32m13.5/13.5 MB\u001b[0m \u001b[31m36.9 MB/s\u001b[0m eta \u001b[36m0:00:00\u001b[0m\n",
            "\u001b[?25hDownloading jmespath-1.0.1-py3-none-any.whl (20 kB)\n",
            "Downloading latexcodec-3.0.0-py3-none-any.whl (18 kB)\n",
            "Downloading paramiko-3.5.1-py3-none-any.whl (227 kB)\n",
            "\u001b[2K   \u001b[90m━━━━━━━━━━━━━━━━━━━━━━━━━━━━━━━━━━━━━━━━\u001b[0m \u001b[32m227.3/227.3 kB\u001b[0m \u001b[31m11.3 MB/s\u001b[0m eta \u001b[36m0:00:00\u001b[0m\n",
            "\u001b[?25hDownloading python_dotenv-1.1.0-py3-none-any.whl (20 kB)\n",
            "Downloading ruamel.yaml.clib-0.2.12-cp311-cp311-manylinux_2_17_x86_64.manylinux2014_x86_64.whl (739 kB)\n",
            "\u001b[2K   \u001b[90m━━━━━━━━━━━━━━━━━━━━━━━━━━━━━━━━━━━━━━━━\u001b[0m \u001b[32m739.1/739.1 kB\u001b[0m \u001b[31m19.6 MB/s\u001b[0m eta \u001b[36m0:00:00\u001b[0m\n",
            "\u001b[?25hDownloading s3transfer-0.12.0-py3-none-any.whl (84 kB)\n",
            "\u001b[2K   \u001b[90m━━━━━━━━━━━━━━━━━━━━━━━━━━━━━━━━━━━━━━━━\u001b[0m \u001b[32m84.8/84.8 kB\u001b[0m \u001b[31m3.9 MB/s\u001b[0m eta \u001b[36m0:00:00\u001b[0m\n",
            "\u001b[?25hDownloading bcrypt-4.3.0-cp39-abi3-manylinux_2_34_x86_64.whl (284 kB)\n",
            "\u001b[2K   \u001b[90m━━━━━━━━━━━━━━━━━━━━━━━━━━━━━━━━━━━━━━━━\u001b[0m \u001b[32m284.2/284.2 kB\u001b[0m \u001b[31m13.3 MB/s\u001b[0m eta \u001b[36m0:00:00\u001b[0m\n",
            "\u001b[?25hDownloading PyNaCl-1.5.0-cp36-abi3-manylinux_2_17_x86_64.manylinux2014_x86_64.manylinux_2_24_x86_64.whl (856 kB)\n",
            "\u001b[2K   \u001b[90m━━━━━━━━━━━━━━━━━━━━━━━━━━━━━━━━━━━━━━━━\u001b[0m \u001b[32m856.7/856.7 kB\u001b[0m \u001b[31m25.8 MB/s\u001b[0m eta \u001b[36m0:00:00\u001b[0m\n",
            "\u001b[?25hBuilding wheels for collected packages: bibtexparser, sentinels\n",
            "  Building wheel for bibtexparser (setup.py) ... \u001b[?25l\u001b[?25hdone\n",
            "  Created wheel for bibtexparser: filename=bibtexparser-1.4.3-py3-none-any.whl size=43549 sha256=df49efffedbaafdf0216db9e800cdb5a6a937191788ae50f06f417de4f60d927\n",
            "  Stored in directory: /root/.cache/pip/wheels/16/fb/76/306387739cf9d53b1c39b0c8aadbbb17dc05f256756d8fd915\n",
            "  Building wheel for sentinels (setup.py) ... \u001b[?25l\u001b[?25hdone\n",
            "  Created wheel for sentinels: filename=sentinels-1.0.0-py3-none-any.whl size=3172 sha256=09932b4641e088cc407faabee5aa4a92d332b94331a50fbc6f5a55a5b17587e3\n",
            "  Stored in directory: /root/.cache/pip/wheels/39/e6/05/d0ca91a2c6be3e4b2a6b4e721fe778f9186b9a383ea05300e8\n",
            "Successfully built bibtexparser sentinels\n",
            "Installing collected packages: sentinels, uncertainties, spglib, ruamel.yaml.clib, pyzmq, python-dotenv, pydash, palettable, mongomock, latexcodec, jsonlines, jmespath, dnspython, bibtexparser, bcrypt, aioitertools, ruamel.yaml, pynacl, pymongo, pybtex, botocore, s3transfer, pydantic-settings, paramiko, monty, sshtunnel, pymatgen, boto3, maggma, emmet-core, mp_api\n",
            "  Attempting uninstall: pyzmq\n",
            "    Found existing installation: pyzmq 24.0.1\n",
            "    Uninstalling pyzmq-24.0.1:\n",
            "      Successfully uninstalled pyzmq-24.0.1\n",
            "Successfully installed aioitertools-0.12.0 bcrypt-4.3.0 bibtexparser-1.4.3 boto3-1.38.9 botocore-1.38.9 dnspython-2.7.0 emmet-core-0.84.7rc1 jmespath-1.0.1 jsonlines-4.0.0 latexcodec-3.0.0 maggma-0.71.5 mongomock-4.3.0 monty-2025.3.3 mp_api-0.45.5 palettable-3.3.3 paramiko-3.5.1 pybtex-0.24.0 pydantic-settings-2.9.1 pydash-8.0.5 pymatgen-2025.5.2 pymongo-4.10.1 pynacl-1.5.0 python-dotenv-1.1.0 pyzmq-26.4.0 ruamel.yaml-0.18.10 ruamel.yaml.clib-0.2.12 s3transfer-0.12.0 sentinels-1.0.0 spglib-2.6.0 sshtunnel-0.4.0 uncertainties-3.2.3\n"
          ]
        }
      ]
    },
    {
      "cell_type": "code",
      "source": [
        "\n",
        "\n",
        "# Import\n",
        "from mp_api.client import MPRester\n",
        "import matplotlib.pyplot as plt\n",
        "import numpy as np\n",
        "import pandas as pd\n",
        "import pickle"
      ],
      "metadata": {
        "id": "zxGZ-TAAdjOf"
      },
      "execution_count": null,
      "outputs": []
    },
    {
      "cell_type": "markdown",
      "source": [
        "# Example code"
      ],
      "metadata": {
        "id": "KzYTmDfBn1Cy"
      }
    },
    {
      "cell_type": "code",
      "source": [
        "with MPRester(\"VlQ1oWGAXlhWiKRkPOk5q1cP8dNS6mIu\") as mpr:\n",
        "  #Please edit features you want to filter from inside the search() command. for example:\n",
        "  example_docs = mpr.materials.summary.search(band_gap=(.001, None))"
      ],
      "metadata": {
        "colab": {
          "base_uri": "https://localhost:8080/",
          "height": 103,
          "referenced_widgets": [
            "038e645e42f64e1ba8f35d0b5121c887",
            "ba9bea0e275b42cfa597130d3771e8d3",
            "3b2adb2c35ab46ca900248b27cfb94b2",
            "8be8e6a0bb73496d94fd16b2dfff88dc",
            "3589b4f9701a4c0fabd35ea723c1151e",
            "ab275a6202da4ead8ad6d7c331818bc8",
            "a19768a09f334765b99e489a57576561",
            "5b78b531ac7b477c9e1f2406c2b38cb5",
            "9314266b6d6747faa5d6d2f54aaeea7b",
            "e766b7dff35643b1b5223f09a632eb6b",
            "25e3a0a76cd049e1994acb3535748442"
          ]
        },
        "id": "U6X_8NkRcnba",
        "outputId": "6a79508d-ca80-468c-b165-21b3c1493408"
      },
      "execution_count": 41,
      "outputs": [
        {
          "output_type": "display_data",
          "data": {
            "text/plain": [
              "Retrieving SummaryDoc documents:   0%|          | 0/81998 [00:00<?, ?it/s]"
            ],
            "application/vnd.jupyter.widget-view+json": {
              "version_major": 2,
              "version_minor": 0,
              "model_id": "038e645e42f64e1ba8f35d0b5121c887"
            }
          },
          "metadata": {}
        },
        {
          "output_type": "stream",
          "name": "stderr",
          "text": [
            "/usr/local/lib/python3.11/dist-packages/mp_api/client/core/client.py:834: UserWarning: Use the 'fields' argument to select only fields of interest to speed up data retrieval for large queries. Choose from: ['builder_meta', 'nsites', 'elements', 'nelements', 'composition', 'composition_reduced', 'formula_pretty', 'formula_anonymous', 'chemsys', 'volume', 'density', 'density_atomic', 'symmetry', 'property_name', 'material_id', 'deprecated', 'deprecation_reasons', 'last_updated', 'origins', 'warnings', 'structure', 'task_ids', 'uncorrected_energy_per_atom', 'energy_per_atom', 'formation_energy_per_atom', 'energy_above_hull', 'is_stable', 'equilibrium_reaction_energy_per_atom', 'decomposes_to', 'xas', 'grain_boundaries', 'band_gap', 'cbm', 'vbm', 'efermi', 'is_gap_direct', 'is_metal', 'es_source_calc_id', 'bandstructure', 'dos', 'dos_energy_up', 'dos_energy_down', 'is_magnetic', 'ordering', 'total_magnetization', 'total_magnetization_normalized_vol', 'total_magnetization_normalized_formula_units', 'num_magnetic_sites', 'num_unique_magnetic_sites', 'types_of_magnetic_species', 'bulk_modulus', 'shear_modulus', 'universal_anisotropy', 'homogeneous_poisson', 'e_total', 'e_ionic', 'e_electronic', 'n', 'e_ij_max', 'weighted_surface_energy_EV_PER_ANG2', 'weighted_surface_energy', 'weighted_work_function', 'surface_anisotropy', 'shape_factor', 'has_reconstructed', 'possible_species', 'has_props', 'theoretical', 'database_IDs']\n",
            "  warnings.warn(\n"
          ]
        }
      ]
    },
    {
      "cell_type": "code",
      "source": [
        "thisdict = {\n",
        "    \"lattice_constant_a\": [doc.structure.lattice.a for doc in example_docs],\n",
        "    \"lattice_constant_b\": [doc.structure.lattice.b for doc in example_docs],\n",
        "    \"lattice_constant_c\": [doc.structure.lattice.c for doc in example_docs],\n",
        "    \"lattice_angles_alpha\": [doc.structure.lattice.alpha for doc in example_docs],\n",
        "    \"lattice_angles_beta\": [doc.structure.lattice.beta for doc in example_docs],\n",
        "    \"lattice_angles_gamma\": [doc.structure.lattice.gamma for doc in example_docs],\n",
        "    \"lattice_volume\": [doc.structure.lattice.volume for doc in example_docs],\n",
        "    \"mean_distance\": [\n",
        "        np.mean(doc.structure.distance_matrix[0])\n",
        "        for doc in example_docs\n",
        "    ],\n",
        "    \"max_distance\": [\n",
        "        np.max(doc.structure.distance_matrix[0])\n",
        "        for doc in example_docs\n",
        "    ],\n",
        "    \"min_distance\": [\n",
        "        np.min(doc.structure.distance_matrix[0])\n",
        "        for doc in example_docs\n",
        "    ],\n",
        "    \"std_distance\": [\n",
        "        np.std(doc.structure.distance_matrix[0])\n",
        "        for doc in example_docs\n",
        "    ],\n",
        "    \"spacegroup_number \" : [doc.structure.get_space_group_info()[1] for doc in example_docs]\n",
        "}"
      ],
      "metadata": {
        "id": "eWgLp_wPxZQc"
      },
      "execution_count": 44,
      "outputs": []
    },
    {
      "cell_type": "code",
      "source": [
        "import pandas as pd\n",
        "\n",
        "# Convert the dictionary to a pandas DataFrame\n",
        "df = pd.DataFrame(thisdict)\n",
        "\n",
        "# Compute the correlation matrix\n",
        "correlation_matrix = df.corr(numeric_only=True)\n",
        "\n",
        "print(correlation_matrix)"
      ],
      "metadata": {
        "id": "xiAzbR3G6q3o",
        "outputId": "ec570cb6-9b8e-4129-a4b4-3913d9e106fb",
        "colab": {
          "base_uri": "https://localhost:8080/"
        }
      },
      "execution_count": 45,
      "outputs": [
        {
          "output_type": "stream",
          "name": "stdout",
          "text": [
            "                      lattice_constant_a  lattice_constant_b  \\\n",
            "lattice_constant_a              1.000000            0.488100   \n",
            "lattice_constant_b              0.488100            1.000000   \n",
            "lattice_constant_c              0.119228            0.162951   \n",
            "lattice_angles_alpha           -0.061346            0.046754   \n",
            "lattice_angles_beta             0.011344            0.032737   \n",
            "lattice_angles_gamma           -0.019264           -0.056646   \n",
            "lattice_volume                  0.604012            0.587553   \n",
            "mean_distance                   0.379611            0.392355   \n",
            "max_distance                    0.336429            0.333175   \n",
            "min_distance                         NaN                 NaN   \n",
            "std_distance                    0.179152            0.165103   \n",
            "spacegroup_number              -0.026744           -0.064723   \n",
            "\n",
            "                      lattice_constant_c  lattice_angles_alpha  \\\n",
            "lattice_constant_a              0.119228             -0.061346   \n",
            "lattice_constant_b              0.162951              0.046754   \n",
            "lattice_constant_c              1.000000              0.049850   \n",
            "lattice_angles_alpha            0.049850              1.000000   \n",
            "lattice_angles_beta             0.059006              0.778891   \n",
            "lattice_angles_gamma            0.211673              0.389580   \n",
            "lattice_volume                  0.551553              0.068716   \n",
            "mean_distance                   0.898332              0.039366   \n",
            "max_distance                    0.918453              0.041412   \n",
            "min_distance                         NaN                   NaN   \n",
            "std_distance                    0.921223              0.041487   \n",
            "spacegroup_number              -0.088172             -0.109269   \n",
            "\n",
            "                      lattice_angles_beta  lattice_angles_gamma  \\\n",
            "lattice_constant_a               0.011344             -0.019264   \n",
            "lattice_constant_b               0.032737             -0.056646   \n",
            "lattice_constant_c               0.059006              0.211673   \n",
            "lattice_angles_alpha             0.778891              0.389580   \n",
            "lattice_angles_beta              1.000000              0.444988   \n",
            "lattice_angles_gamma             0.444988              1.000000   \n",
            "lattice_volume                   0.093295              0.192370   \n",
            "mean_distance                    0.068515              0.233690   \n",
            "max_distance                     0.069517              0.237437   \n",
            "min_distance                          NaN                   NaN   \n",
            "std_distance                     0.042840              0.200781   \n",
            "spacegroup_number               -0.212042             -0.095508   \n",
            "\n",
            "                      lattice_volume  mean_distance  max_distance  \\\n",
            "lattice_constant_a          0.604012       0.379611      0.336429   \n",
            "lattice_constant_b          0.587553       0.392355      0.333175   \n",
            "lattice_constant_c          0.551553       0.898332      0.918453   \n",
            "lattice_angles_alpha        0.068716       0.039366      0.041412   \n",
            "lattice_angles_beta         0.093295       0.068515      0.069517   \n",
            "lattice_angles_gamma        0.192370       0.233690      0.237437   \n",
            "lattice_volume              1.000000       0.706305      0.668018   \n",
            "mean_distance               0.706305       1.000000      0.984345   \n",
            "max_distance                0.668018       0.984345      1.000000   \n",
            "min_distance                     NaN            NaN           NaN   \n",
            "std_distance                0.504853       0.896731      0.931185   \n",
            "spacegroup_number          -0.118288      -0.091248     -0.086106   \n",
            "\n",
            "                      min_distance  std_distance  spacegroup_number   \n",
            "lattice_constant_a             NaN      0.179152           -0.026744  \n",
            "lattice_constant_b             NaN      0.165103           -0.064723  \n",
            "lattice_constant_c             NaN      0.921223           -0.088172  \n",
            "lattice_angles_alpha           NaN      0.041487           -0.109269  \n",
            "lattice_angles_beta            NaN      0.042840           -0.212042  \n",
            "lattice_angles_gamma           NaN      0.200781           -0.095508  \n",
            "lattice_volume                 NaN      0.504853           -0.118288  \n",
            "mean_distance                  NaN      0.896731           -0.091248  \n",
            "max_distance                   NaN      0.931185           -0.086106  \n",
            "min_distance                   NaN           NaN                 NaN  \n",
            "std_distance                   NaN      1.000000            0.013283  \n",
            "spacegroup_number              NaN      0.013283            1.000000  \n"
          ]
        }
      ]
    },
    {
      "cell_type": "code",
      "source": [],
      "metadata": {
        "id": "uC7w5HnAkb-Z"
      },
      "execution_count": null,
      "outputs": []
    },
    {
      "cell_type": "code",
      "source": [
        "import pickle\n",
        "\n",
        "# Object to save (for example, your dictionary or DataFrame)\n",
        "object_to_save = thisdict  # or use df if it's a pandas DataFrame\n",
        "\n",
        "# File path to save the object\n",
        "with open(\"data.pkl\", \"wb\") as f:\n",
        "    pickle.dump(object_to_save, f)"
      ],
      "metadata": {
        "id": "qyyr8cKX6uvY"
      },
      "execution_count": 46,
      "outputs": []
    },
    {
      "cell_type": "code",
      "source": [
        "aa = np.arange(10)"
      ],
      "metadata": {
        "id": "2VnH_6bR7E9l"
      },
      "execution_count": null,
      "outputs": []
    },
    {
      "cell_type": "code",
      "source": [
        "aa"
      ],
      "metadata": {
        "id": "hInnVuxl7FZm",
        "outputId": "530b523a-9c9e-4170-c302-d8903132c8f1",
        "colab": {
          "base_uri": "https://localhost:8080/"
        }
      },
      "execution_count": null,
      "outputs": [
        {
          "output_type": "execute_result",
          "data": {
            "text/plain": [
              "array([0, 1, 2, 3, 4, 5, 6, 7, 8, 9])"
            ]
          },
          "metadata": {},
          "execution_count": 35
        }
      ]
    },
    {
      "cell_type": "code",
      "source": [
        "bb = np.random.shuffle(aa)"
      ],
      "metadata": {
        "id": "fzUTGOUK7KQL"
      },
      "execution_count": null,
      "outputs": []
    },
    {
      "cell_type": "code",
      "source": [
        "bb"
      ],
      "metadata": {
        "id": "JTrsnM8U7ZXK"
      },
      "execution_count": null,
      "outputs": []
    },
    {
      "cell_type": "code",
      "source": [
        "list_final = []\n",
        "for i in range(5):\n",
        "    list_i = []\n",
        "    for j in range(len(example_docs[i].structure.species)):\n",
        "        list_i.append(example_docs[i].structure.species[j].electrical_resistivity)\n",
        "        # print(list_i)\n",
        "    listia = np.array(list_i)\n",
        "    print(listia)\n",
        "    # list_final.append([np.sum(listia), np.mean(listia), np.std(listia), np.max(listia), np.min(listia)])\n"
      ],
      "metadata": {
        "id": "OsO0Yhmz7Zor",
        "outputId": "fa7afe3c-9562-4d37-c09a-870d05d3be40",
        "colab": {
          "base_uri": "https://localhost:8080/"
        }
      },
      "execution_count": null,
      "outputs": [
        {
          "output_type": "stream",
          "name": "stdout",
          "text": [
            "[1.63e-08 1.63e-08 1.63e-08 1.63e-08 1.63e-08 1.63e-08 5.00e-04 5.00e-04\n",
            " 5.00e-04 5.00e-04 5.00e-04 5.00e-04 5.00e-04 5.00e-04 5.00e-04 5.00e-04\n",
            " 1.00e-07 1.00e-07 1.00e-07 1.00e-07 1.00e-07 1.00e-07 1.00e-07 1.00e-07\n",
            " 1.00e-07 1.00e-07 1.00e-07 1.00e-07]\n",
            "[1.63e-08 1.63e-08 1.63e-08 1.63e-08 1.63e-08 1.63e-08 1.15e-07 1.15e-07\n",
            " 1.15e-07 1.15e-07 5.00e-04 5.00e-04 5.00e-04 5.00e-04 5.00e-04 5.00e-04\n",
            " 1.00e-07 1.00e-07 1.00e-07 1.00e-07 1.00e-07 1.00e-07 1.00e-07 1.00e-07\n",
            " 1.00e-07 1.00e-07 1.00e-07 1.00e-07]\n",
            "[2.7e-08 2.7e-08 2.7e-08 2.7e-08 2.7e-08 2.7e-08 7e-08 7e-08 7e-08 7e-08\n",
            " 2000000000000000.0 None None None None None None None None None None None\n",
            " None]\n",
            "[2.7e-08 2.7e-08 2.7e-08 2.7e-08 2.7e-08 2.7e-08 7e-08 7e-08 7e-08 7e-08\n",
            " 0.0001 None None None None None None None None None None None None]\n",
            "[2.7e-08 2.7e-08 2.7e-08 2.7e-08 2.7e-08 2.7e-08 5.4e-08 5.4e-08 5.4e-08\n",
            " 5.4e-08 5.4e-08 None None None None None None None None None None None\n",
            " None None None None None]\n"
          ]
        },
        {
          "output_type": "stream",
          "name": "stderr",
          "text": [
            "<ipython-input-56-9eab4cdb2338>:5: UserWarning: No data available for electrical_resistivity for O\n",
            "  list_i.append(example_docs[i].structure.species[j].electrical_resistivity)\n",
            "<ipython-input-56-9eab4cdb2338>:5: UserWarning: No data available for electrical_resistivity for N\n",
            "  list_i.append(example_docs[i].structure.species[j].electrical_resistivity)\n"
          ]
        }
      ]
    },
    {
      "cell_type": "code",
      "source": [
        " example_docs[0].structure.species[].electrical_resistivity"
      ],
      "metadata": {
        "id": "uUthCQ9S8VBC",
        "outputId": "06c99ba6-86a4-4326-db93-85935d13d8db",
        "colab": {
          "base_uri": "https://localhost:8080/"
        }
      },
      "execution_count": null,
      "outputs": [
        {
          "output_type": "execute_result",
          "data": {
            "text/plain": [
              "1.63e-08"
            ]
          },
          "metadata": {},
          "execution_count": 51
        }
      ]
    },
    {
      "cell_type": "code",
      "source": [
        "example_docs[4].structure.species[20].electrical_resistivity"
      ],
      "metadata": {
        "id": "4PcN3lS5CpTz",
        "outputId": "1c1356f1-cae2-4d80-bba0-e407b2c9b689",
        "colab": {
          "base_uri": "https://localhost:8080/"
        }
      },
      "execution_count": null,
      "outputs": [
        {
          "output_type": "stream",
          "name": "stderr",
          "text": [
            "<ipython-input-69-fb4b2de9d73f>:1: UserWarning: No data available for electrical_resistivity for N\n",
            "  example_docs[4].structure.species[20].electrical_resistivity\n"
          ]
        }
      ]
    },
    {
      "cell_type": "code",
      "source": [
        "example_docs[4].structure.species"
      ],
      "metadata": {
        "id": "TdJPfQ-iEAme",
        "outputId": "4c20b252-3392-4e9c-9917-2a630e9bf768",
        "colab": {
          "base_uri": "https://localhost:8080/"
        }
      },
      "execution_count": null,
      "outputs": [
        {
          "output_type": "execute_result",
          "data": {
            "text/plain": [
              "[Element Al,\n",
              " Element Al,\n",
              " Element Al,\n",
              " Element Al,\n",
              " Element Al,\n",
              " Element Al,\n",
              " Element W,\n",
              " Element W,\n",
              " Element W,\n",
              " Element W,\n",
              " Element W,\n",
              " Element N,\n",
              " Element N,\n",
              " Element N,\n",
              " Element N,\n",
              " Element N,\n",
              " Element N,\n",
              " Element N,\n",
              " Element N,\n",
              " Element N,\n",
              " Element N,\n",
              " Element N,\n",
              " Element N,\n",
              " Element N,\n",
              " Element N,\n",
              " Element N,\n",
              " Element N]"
            ]
          },
          "metadata": {},
          "execution_count": 70
        }
      ]
    },
    {
      "cell_type": "code",
      "source": [],
      "metadata": {
        "id": "D3VwQilSEGT7"
      },
      "execution_count": null,
      "outputs": []
    }
  ]
}