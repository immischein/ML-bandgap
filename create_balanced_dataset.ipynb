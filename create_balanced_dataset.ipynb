{
  "nbformat": 4,
  "nbformat_minor": 0,
  "metadata": {
    "colab": {
      "provenance": [],
      "gpuType": "T4",
      "authorship_tag": "ABX9TyPrusP1fIfUd1DBwkSMmKs7",
      "include_colab_link": true
    },
    "kernelspec": {
      "name": "python3",
      "display_name": "Python 3"
    },
    "language_info": {
      "name": "python"
    }
  },
  "cells": [
    {
      "cell_type": "markdown",
      "metadata": {
        "id": "view-in-github",
        "colab_type": "text"
      },
      "source": [
        "<a href=\"https://colab.research.google.com/github/immischein/ML-bandgap/blob/main/create_balanced_dataset.ipynb\" target=\"_parent\"><img src=\"https://colab.research.google.com/assets/colab-badge.svg\" alt=\"Open In Colab\"/></a>"
      ]
    },
    {
      "cell_type": "code",
      "execution_count": 13,
      "metadata": {
        "id": "u500T7igdHTQ"
      },
      "outputs": [],
      "source": [
        "import pandas as pd\n",
        "from google.colab import drive\n",
        "import matplotlib.pyplot as plt\n",
        "import seaborn as sns"
      ]
    },
    {
      "cell_type": "markdown",
      "source": [
        "### Load Dataset from file"
      ],
      "metadata": {
        "id": "5m473h6Td322"
      }
    },
    {
      "cell_type": "code",
      "source": [
        "# load from google drive file\n",
        "# dataset contains around 82998 materials and 81 features\n",
        "drive.mount('/content/drive')\n",
        "df = pd.read_csv('/content/drive/MyDrive/Project Documents ML-CMT/bandgap_dataset_premium_2.csv')"
      ],
      "metadata": {
        "colab": {
          "base_uri": "https://localhost:8080/"
        },
        "id": "mMmazK_id0-j",
        "outputId": "bce1adf2-49ae-4e74-cbaa-26f3af813c30"
      },
      "execution_count": 3,
      "outputs": [
        {
          "output_type": "stream",
          "name": "stdout",
          "text": [
            "Mounted at /content/drive\n"
          ]
        }
      ]
    },
    {
      "cell_type": "markdown",
      "source": [
        "### Remove unnecessary data"
      ],
      "metadata": {
        "id": "E8XhgFr9iKny"
      }
    },
    {
      "cell_type": "code",
      "source": [
        "# we don't use this column anywhere\n",
        "df = df.drop(columns=\"formula\")"
      ],
      "metadata": {
        "id": "pMfIXp3FiJxe"
      },
      "execution_count": 4,
      "outputs": []
    },
    {
      "cell_type": "code",
      "source": [
        "# remove metals\n",
        "df = df[df[\"band_gap\"] > 0]"
      ],
      "metadata": {
        "id": "SbePyWHLpKTe"
      },
      "execution_count": 18,
      "outputs": []
    },
    {
      "cell_type": "markdown",
      "source": [
        "## Initial Dataset"
      ],
      "metadata": {
        "id": "jGa-cnaFi3q7"
      }
    },
    {
      "cell_type": "markdown",
      "source": [
        "### Descriptive Analytics"
      ],
      "metadata": {
        "id": "RYsA2AoPekzw"
      }
    },
    {
      "cell_type": "code",
      "source": [
        "print(f\"Dataset size is {df.shape}\")\n",
        "df.info()\n",
        "df.describe()"
      ],
      "metadata": {
        "colab": {
          "base_uri": "https://localhost:8080/",
          "height": 1000
        },
        "collapsed": true,
        "id": "IgIg2nemeL1o",
        "outputId": "be3751e3-b8a4-4a26-9ab1-5004ff260f51"
      },
      "execution_count": 19,
      "outputs": [
        {
          "output_type": "stream",
          "name": "stdout",
          "text": [
            "Dataset size is (81998, 80)\n",
            "<class 'pandas.core.frame.DataFrame'>\n",
            "Index: 81998 entries, 0 to 81997\n",
            "Data columns (total 80 columns):\n",
            " #   Column                            Non-Null Count  Dtype  \n",
            "---  ------                            --------------  -----  \n",
            " 0   material_id                       81998 non-null  object \n",
            " 1   band_gap                          81998 non-null  float64\n",
            " 2   density                           81998 non-null  float64\n",
            " 3   volume                            81998 non-null  float64\n",
            " 4   a                                 81998 non-null  float64\n",
            " 5   b                                 81998 non-null  float64\n",
            " 6   c                                 81998 non-null  float64\n",
            " 7   alpha                             81998 non-null  float64\n",
            " 8   beta                              81998 non-null  float64\n",
            " 9   gamma                             81998 non-null  float64\n",
            " 10  n_atoms                           81998 non-null  int64  \n",
            " 11  mean_distance                     81998 non-null  float64\n",
            " 12  max_distance                      81998 non-null  float64\n",
            " 13  min_distance                      81998 non-null  float64\n",
            " 14  std_distance                      81998 non-null  float64\n",
            " 15  spacegroup_number                 81998 non-null  int64  \n",
            " 16  avg_en_weighted                   81989 non-null  float64\n",
            " 17  en_range_weighted                 81989 non-null  float64\n",
            " 18  std_en_weighted                   81989 non-null  float64\n",
            " 19  avg_ie_weighted                   81998 non-null  float64\n",
            " 20  ie_range_weighted                 81998 non-null  float64\n",
            " 21  std_ie_weighted                   81998 non-null  float64\n",
            " 22  avg_am_weighted                   81998 non-null  float64\n",
            " 23  am_range_weighted                 81998 non-null  float64\n",
            " 24  std_am_weighted                   81998 non-null  float64\n",
            " 25  avg_vdw_weighted                  81998 non-null  float64\n",
            " 26  vdw_range_weighted                81998 non-null  float64\n",
            " 27  std_vdw_weighted                  81998 non-null  float64\n",
            " 28  avg_molar_volume_weighted         81998 non-null  float64\n",
            " 29  molar_volume_range_weighted       81998 non-null  float64\n",
            " 30  std_molar_volume_weighted         81998 non-null  float64\n",
            " 31  avg_electron_affinity_weighted    81998 non-null  float64\n",
            " 32  electron_affinity_range_weighted  81998 non-null  float64\n",
            " 33  std_electron_affinity_weighted    81998 non-null  float64\n",
            " 34  avg_en                            81989 non-null  float64\n",
            " 35  en_range                          81989 non-null  float64\n",
            " 36  std_en                            81989 non-null  float64\n",
            " 37  max_en                            81989 non-null  float64\n",
            " 38  min_en                            81989 non-null  float64\n",
            " 39  avg_ie                            81998 non-null  float64\n",
            " 40  ie_range                          81998 non-null  float64\n",
            " 41  std_ie                            81998 non-null  float64\n",
            " 42  max_ie                            81998 non-null  float64\n",
            " 43  min_ie                            81998 non-null  float64\n",
            " 44  avg_am                            81998 non-null  float64\n",
            " 45  am_range                          81998 non-null  float64\n",
            " 46  std_am                            81998 non-null  float64\n",
            " 47  max_am                            81998 non-null  float64\n",
            " 48  min_am                            81998 non-null  float64\n",
            " 49  avg_vdw                           81998 non-null  float64\n",
            " 50  vdw_range                         81998 non-null  float64\n",
            " 51  std_vdw                           81998 non-null  float64\n",
            " 52  max_vdw                           81998 non-null  float64\n",
            " 53  min_vdw                           81998 non-null  float64\n",
            " 54  avg_molar_volume                  81998 non-null  float64\n",
            " 55  molar_volume_range                81998 non-null  float64\n",
            " 56  std_molar_volume                  81998 non-null  float64\n",
            " 57  max_molar_volume                  81998 non-null  float64\n",
            " 58  min_molar_volume                  81998 non-null  float64\n",
            " 59  avg_electron_affinity             81998 non-null  float64\n",
            " 60  electron_affinity_range           81998 non-null  float64\n",
            " 61  std_electron_affinity             81998 non-null  float64\n",
            " 62  max_electron_affinity             81998 non-null  float64\n",
            " 63  min_electron_affinity             81998 non-null  float64\n",
            " 64  avg_electronegativity             81989 non-null  float64\n",
            " 65  electronegativity_range           81989 non-null  float64\n",
            " 66  std_electronegativity             81989 non-null  float64\n",
            " 67  max_electronegativity             81989 non-null  float64\n",
            " 68  min_electronegativity             81989 non-null  float64\n",
            " 69  avg_atomic_radius                 81827 non-null  float64\n",
            " 70  atomic_radius_range               81827 non-null  float64\n",
            " 71  std_atomic_radius                 81827 non-null  float64\n",
            " 72  max_atomic_radius                 81827 non-null  float64\n",
            " 73  min_atomic_radius                 81827 non-null  float64\n",
            " 74  avg_boiling_point                 81942 non-null  float64\n",
            " 75  boiling_point_range               81942 non-null  float64\n",
            " 76  std_boiling_point                 81942 non-null  float64\n",
            " 77  max_boiling_point                 81942 non-null  float64\n",
            " 78  min_boiling_point                 81942 non-null  float64\n",
            " 79  number_of_elements                81998 non-null  int64  \n",
            "dtypes: float64(76), int64(3), object(1)\n",
            "memory usage: 50.7+ MB\n"
          ]
        },
        {
          "output_type": "execute_result",
          "data": {
            "text/plain": [
              "           band_gap       density        volume             a             b  \\\n",
              "count  81998.000000  81998.000000  81998.000000  81998.000000  81998.000000   \n",
              "mean       2.008621      4.033431    672.461985      7.684102      8.062514   \n",
              "std        1.554917      1.674945    694.552196      3.176485      2.790923   \n",
              "min        0.001000      0.020144     11.286588      2.363000      2.363000   \n",
              "25%        0.688100      2.909166    257.364387      5.564078      6.028705   \n",
              "50%        1.754650      3.756501    456.001697      7.028730      7.739968   \n",
              "75%        3.031600      4.921850    845.734409      8.975985      9.344012   \n",
              "max       17.891400     16.321559  20090.906408     46.210701     56.617301   \n",
              "\n",
              "                  c         alpha          beta         gamma       n_atoms  \\\n",
              "count  81998.000000  81998.000000  81998.000000  81998.000000  81998.000000   \n",
              "mean      11.301802     86.022149     88.083887     89.751261     42.681004   \n",
              "std        6.802653     17.335792     15.883331     22.025312     40.714649   \n",
              "min        2.395898      5.200300      5.397478      5.397478      1.000000   \n",
              "25%        7.420564     77.817055     88.983131     87.252454     16.000000   \n",
              "50%        9.731572     90.000000     90.000000     90.000000     30.000000   \n",
              "75%       13.179710     90.000000     90.000000     99.687205     54.000000   \n",
              "max      211.425839    169.783994    169.783994    168.048246    444.000000   \n",
              "\n",
              "       ...  atomic_radius_range  std_atomic_radius  max_atomic_radius   \\\n",
              "count  ...         81827.000000       81827.000000        81827.000000   \n",
              "mean   ...             4.198348           1.517300            4.590206   \n",
              "std    ...             1.362272           0.512716            1.398939   \n",
              "min    ...             0.250000           0.100000            0.250000   \n",
              "25%    ...             3.223322           1.158767            3.600000   \n",
              "50%    ...             4.133032           1.480618            4.500000   \n",
              "75%    ...             4.961986           1.800987            5.400000   \n",
              "max    ...            10.912723           4.122814           11.350000   \n",
              "\n",
              "       min_atomic_radius  avg_boiling_point  boiling_point_range  \\\n",
              "count       81827.000000       81942.000000         81942.000000   \n",
              "mean            0.391857        2610.680019          6229.912318   \n",
              "std             0.127667         936.129643          2792.453291   \n",
              "min             0.000000           3.376000             4.220000   \n",
              "25%             0.320000        2024.363965          4215.100000   \n",
              "50%             0.389444        2567.453691          5845.000000   \n",
              "75%             0.494975        3211.485000          8032.000000   \n",
              "max             0.800000        6712.732682         18763.000000   \n",
              "\n",
              "       std_boiling_point  max_boiling_point   min_boiling_point  \\\n",
              "count       81942.000000         81942.00000       81942.000000   \n",
              "mean         2201.268193          6392.81597         162.903652   \n",
              "std           972.703270          2796.79519         217.813947   \n",
              "min             1.688000             4.22000           0.000000   \n",
              "25%          1510.957487          4399.07000          85.030000   \n",
              "50%          2062.942347          5991.05500          90.200000   \n",
              "75%          2813.543729          8195.00000          90.200000   \n",
              "max          6673.998492         18853.20000        1712.500000   \n",
              "\n",
              "       number_of_elements  \n",
              "count        81998.000000  \n",
              "mean             3.803568  \n",
              "std              0.982543  \n",
              "min              1.000000  \n",
              "25%              3.000000  \n",
              "50%              4.000000  \n",
              "75%              4.000000  \n",
              "max              9.000000  \n",
              "\n",
              "[8 rows x 79 columns]"
            ],
            "text/html": [
              "\n",
              "  <div id=\"df-b1928601-42b7-479f-94a7-ee29e436b966\" class=\"colab-df-container\">\n",
              "    <div>\n",
              "<style scoped>\n",
              "    .dataframe tbody tr th:only-of-type {\n",
              "        vertical-align: middle;\n",
              "    }\n",
              "\n",
              "    .dataframe tbody tr th {\n",
              "        vertical-align: top;\n",
              "    }\n",
              "\n",
              "    .dataframe thead th {\n",
              "        text-align: right;\n",
              "    }\n",
              "</style>\n",
              "<table border=\"1\" class=\"dataframe\">\n",
              "  <thead>\n",
              "    <tr style=\"text-align: right;\">\n",
              "      <th></th>\n",
              "      <th>band_gap</th>\n",
              "      <th>density</th>\n",
              "      <th>volume</th>\n",
              "      <th>a</th>\n",
              "      <th>b</th>\n",
              "      <th>c</th>\n",
              "      <th>alpha</th>\n",
              "      <th>beta</th>\n",
              "      <th>gamma</th>\n",
              "      <th>n_atoms</th>\n",
              "      <th>...</th>\n",
              "      <th>atomic_radius_range</th>\n",
              "      <th>std_atomic_radius</th>\n",
              "      <th>max_atomic_radius</th>\n",
              "      <th>min_atomic_radius</th>\n",
              "      <th>avg_boiling_point</th>\n",
              "      <th>boiling_point_range</th>\n",
              "      <th>std_boiling_point</th>\n",
              "      <th>max_boiling_point</th>\n",
              "      <th>min_boiling_point</th>\n",
              "      <th>number_of_elements</th>\n",
              "    </tr>\n",
              "  </thead>\n",
              "  <tbody>\n",
              "    <tr>\n",
              "      <th>count</th>\n",
              "      <td>81998.000000</td>\n",
              "      <td>81998.000000</td>\n",
              "      <td>81998.000000</td>\n",
              "      <td>81998.000000</td>\n",
              "      <td>81998.000000</td>\n",
              "      <td>81998.000000</td>\n",
              "      <td>81998.000000</td>\n",
              "      <td>81998.000000</td>\n",
              "      <td>81998.000000</td>\n",
              "      <td>81998.000000</td>\n",
              "      <td>...</td>\n",
              "      <td>81827.000000</td>\n",
              "      <td>81827.000000</td>\n",
              "      <td>81827.000000</td>\n",
              "      <td>81827.000000</td>\n",
              "      <td>81942.000000</td>\n",
              "      <td>81942.000000</td>\n",
              "      <td>81942.000000</td>\n",
              "      <td>81942.00000</td>\n",
              "      <td>81942.000000</td>\n",
              "      <td>81998.000000</td>\n",
              "    </tr>\n",
              "    <tr>\n",
              "      <th>mean</th>\n",
              "      <td>2.008621</td>\n",
              "      <td>4.033431</td>\n",
              "      <td>672.461985</td>\n",
              "      <td>7.684102</td>\n",
              "      <td>8.062514</td>\n",
              "      <td>11.301802</td>\n",
              "      <td>86.022149</td>\n",
              "      <td>88.083887</td>\n",
              "      <td>89.751261</td>\n",
              "      <td>42.681004</td>\n",
              "      <td>...</td>\n",
              "      <td>4.198348</td>\n",
              "      <td>1.517300</td>\n",
              "      <td>4.590206</td>\n",
              "      <td>0.391857</td>\n",
              "      <td>2610.680019</td>\n",
              "      <td>6229.912318</td>\n",
              "      <td>2201.268193</td>\n",
              "      <td>6392.81597</td>\n",
              "      <td>162.903652</td>\n",
              "      <td>3.803568</td>\n",
              "    </tr>\n",
              "    <tr>\n",
              "      <th>std</th>\n",
              "      <td>1.554917</td>\n",
              "      <td>1.674945</td>\n",
              "      <td>694.552196</td>\n",
              "      <td>3.176485</td>\n",
              "      <td>2.790923</td>\n",
              "      <td>6.802653</td>\n",
              "      <td>17.335792</td>\n",
              "      <td>15.883331</td>\n",
              "      <td>22.025312</td>\n",
              "      <td>40.714649</td>\n",
              "      <td>...</td>\n",
              "      <td>1.362272</td>\n",
              "      <td>0.512716</td>\n",
              "      <td>1.398939</td>\n",
              "      <td>0.127667</td>\n",
              "      <td>936.129643</td>\n",
              "      <td>2792.453291</td>\n",
              "      <td>972.703270</td>\n",
              "      <td>2796.79519</td>\n",
              "      <td>217.813947</td>\n",
              "      <td>0.982543</td>\n",
              "    </tr>\n",
              "    <tr>\n",
              "      <th>min</th>\n",
              "      <td>0.001000</td>\n",
              "      <td>0.020144</td>\n",
              "      <td>11.286588</td>\n",
              "      <td>2.363000</td>\n",
              "      <td>2.363000</td>\n",
              "      <td>2.395898</td>\n",
              "      <td>5.200300</td>\n",
              "      <td>5.397478</td>\n",
              "      <td>5.397478</td>\n",
              "      <td>1.000000</td>\n",
              "      <td>...</td>\n",
              "      <td>0.250000</td>\n",
              "      <td>0.100000</td>\n",
              "      <td>0.250000</td>\n",
              "      <td>0.000000</td>\n",
              "      <td>3.376000</td>\n",
              "      <td>4.220000</td>\n",
              "      <td>1.688000</td>\n",
              "      <td>4.22000</td>\n",
              "      <td>0.000000</td>\n",
              "      <td>1.000000</td>\n",
              "    </tr>\n",
              "    <tr>\n",
              "      <th>25%</th>\n",
              "      <td>0.688100</td>\n",
              "      <td>2.909166</td>\n",
              "      <td>257.364387</td>\n",
              "      <td>5.564078</td>\n",
              "      <td>6.028705</td>\n",
              "      <td>7.420564</td>\n",
              "      <td>77.817055</td>\n",
              "      <td>88.983131</td>\n",
              "      <td>87.252454</td>\n",
              "      <td>16.000000</td>\n",
              "      <td>...</td>\n",
              "      <td>3.223322</td>\n",
              "      <td>1.158767</td>\n",
              "      <td>3.600000</td>\n",
              "      <td>0.320000</td>\n",
              "      <td>2024.363965</td>\n",
              "      <td>4215.100000</td>\n",
              "      <td>1510.957487</td>\n",
              "      <td>4399.07000</td>\n",
              "      <td>85.030000</td>\n",
              "      <td>3.000000</td>\n",
              "    </tr>\n",
              "    <tr>\n",
              "      <th>50%</th>\n",
              "      <td>1.754650</td>\n",
              "      <td>3.756501</td>\n",
              "      <td>456.001697</td>\n",
              "      <td>7.028730</td>\n",
              "      <td>7.739968</td>\n",
              "      <td>9.731572</td>\n",
              "      <td>90.000000</td>\n",
              "      <td>90.000000</td>\n",
              "      <td>90.000000</td>\n",
              "      <td>30.000000</td>\n",
              "      <td>...</td>\n",
              "      <td>4.133032</td>\n",
              "      <td>1.480618</td>\n",
              "      <td>4.500000</td>\n",
              "      <td>0.389444</td>\n",
              "      <td>2567.453691</td>\n",
              "      <td>5845.000000</td>\n",
              "      <td>2062.942347</td>\n",
              "      <td>5991.05500</td>\n",
              "      <td>90.200000</td>\n",
              "      <td>4.000000</td>\n",
              "    </tr>\n",
              "    <tr>\n",
              "      <th>75%</th>\n",
              "      <td>3.031600</td>\n",
              "      <td>4.921850</td>\n",
              "      <td>845.734409</td>\n",
              "      <td>8.975985</td>\n",
              "      <td>9.344012</td>\n",
              "      <td>13.179710</td>\n",
              "      <td>90.000000</td>\n",
              "      <td>90.000000</td>\n",
              "      <td>99.687205</td>\n",
              "      <td>54.000000</td>\n",
              "      <td>...</td>\n",
              "      <td>4.961986</td>\n",
              "      <td>1.800987</td>\n",
              "      <td>5.400000</td>\n",
              "      <td>0.494975</td>\n",
              "      <td>3211.485000</td>\n",
              "      <td>8032.000000</td>\n",
              "      <td>2813.543729</td>\n",
              "      <td>8195.00000</td>\n",
              "      <td>90.200000</td>\n",
              "      <td>4.000000</td>\n",
              "    </tr>\n",
              "    <tr>\n",
              "      <th>max</th>\n",
              "      <td>17.891400</td>\n",
              "      <td>16.321559</td>\n",
              "      <td>20090.906408</td>\n",
              "      <td>46.210701</td>\n",
              "      <td>56.617301</td>\n",
              "      <td>211.425839</td>\n",
              "      <td>169.783994</td>\n",
              "      <td>169.783994</td>\n",
              "      <td>168.048246</td>\n",
              "      <td>444.000000</td>\n",
              "      <td>...</td>\n",
              "      <td>10.912723</td>\n",
              "      <td>4.122814</td>\n",
              "      <td>11.350000</td>\n",
              "      <td>0.800000</td>\n",
              "      <td>6712.732682</td>\n",
              "      <td>18763.000000</td>\n",
              "      <td>6673.998492</td>\n",
              "      <td>18853.20000</td>\n",
              "      <td>1712.500000</td>\n",
              "      <td>9.000000</td>\n",
              "    </tr>\n",
              "  </tbody>\n",
              "</table>\n",
              "<p>8 rows × 79 columns</p>\n",
              "</div>\n",
              "    <div class=\"colab-df-buttons\">\n",
              "\n",
              "  <div class=\"colab-df-container\">\n",
              "    <button class=\"colab-df-convert\" onclick=\"convertToInteractive('df-b1928601-42b7-479f-94a7-ee29e436b966')\"\n",
              "            title=\"Convert this dataframe to an interactive table.\"\n",
              "            style=\"display:none;\">\n",
              "\n",
              "  <svg xmlns=\"http://www.w3.org/2000/svg\" height=\"24px\" viewBox=\"0 -960 960 960\">\n",
              "    <path d=\"M120-120v-720h720v720H120Zm60-500h600v-160H180v160Zm220 220h160v-160H400v160Zm0 220h160v-160H400v160ZM180-400h160v-160H180v160Zm440 0h160v-160H620v160ZM180-180h160v-160H180v160Zm440 0h160v-160H620v160Z\"/>\n",
              "  </svg>\n",
              "    </button>\n",
              "\n",
              "  <style>\n",
              "    .colab-df-container {\n",
              "      display:flex;\n",
              "      gap: 12px;\n",
              "    }\n",
              "\n",
              "    .colab-df-convert {\n",
              "      background-color: #E8F0FE;\n",
              "      border: none;\n",
              "      border-radius: 50%;\n",
              "      cursor: pointer;\n",
              "      display: none;\n",
              "      fill: #1967D2;\n",
              "      height: 32px;\n",
              "      padding: 0 0 0 0;\n",
              "      width: 32px;\n",
              "    }\n",
              "\n",
              "    .colab-df-convert:hover {\n",
              "      background-color: #E2EBFA;\n",
              "      box-shadow: 0px 1px 2px rgba(60, 64, 67, 0.3), 0px 1px 3px 1px rgba(60, 64, 67, 0.15);\n",
              "      fill: #174EA6;\n",
              "    }\n",
              "\n",
              "    .colab-df-buttons div {\n",
              "      margin-bottom: 4px;\n",
              "    }\n",
              "\n",
              "    [theme=dark] .colab-df-convert {\n",
              "      background-color: #3B4455;\n",
              "      fill: #D2E3FC;\n",
              "    }\n",
              "\n",
              "    [theme=dark] .colab-df-convert:hover {\n",
              "      background-color: #434B5C;\n",
              "      box-shadow: 0px 1px 3px 1px rgba(0, 0, 0, 0.15);\n",
              "      filter: drop-shadow(0px 1px 2px rgba(0, 0, 0, 0.3));\n",
              "      fill: #FFFFFF;\n",
              "    }\n",
              "  </style>\n",
              "\n",
              "    <script>\n",
              "      const buttonEl =\n",
              "        document.querySelector('#df-b1928601-42b7-479f-94a7-ee29e436b966 button.colab-df-convert');\n",
              "      buttonEl.style.display =\n",
              "        google.colab.kernel.accessAllowed ? 'block' : 'none';\n",
              "\n",
              "      async function convertToInteractive(key) {\n",
              "        const element = document.querySelector('#df-b1928601-42b7-479f-94a7-ee29e436b966');\n",
              "        const dataTable =\n",
              "          await google.colab.kernel.invokeFunction('convertToInteractive',\n",
              "                                                    [key], {});\n",
              "        if (!dataTable) return;\n",
              "\n",
              "        const docLinkHtml = 'Like what you see? Visit the ' +\n",
              "          '<a target=\"_blank\" href=https://colab.research.google.com/notebooks/data_table.ipynb>data table notebook</a>'\n",
              "          + ' to learn more about interactive tables.';\n",
              "        element.innerHTML = '';\n",
              "        dataTable['output_type'] = 'display_data';\n",
              "        await google.colab.output.renderOutput(dataTable, element);\n",
              "        const docLink = document.createElement('div');\n",
              "        docLink.innerHTML = docLinkHtml;\n",
              "        element.appendChild(docLink);\n",
              "      }\n",
              "    </script>\n",
              "  </div>\n",
              "\n",
              "\n",
              "    <div id=\"df-ec0e818f-94cd-4a4e-b65b-2e4b794fcbb4\">\n",
              "      <button class=\"colab-df-quickchart\" onclick=\"quickchart('df-ec0e818f-94cd-4a4e-b65b-2e4b794fcbb4')\"\n",
              "                title=\"Suggest charts\"\n",
              "                style=\"display:none;\">\n",
              "\n",
              "<svg xmlns=\"http://www.w3.org/2000/svg\" height=\"24px\"viewBox=\"0 0 24 24\"\n",
              "     width=\"24px\">\n",
              "    <g>\n",
              "        <path d=\"M19 3H5c-1.1 0-2 .9-2 2v14c0 1.1.9 2 2 2h14c1.1 0 2-.9 2-2V5c0-1.1-.9-2-2-2zM9 17H7v-7h2v7zm4 0h-2V7h2v10zm4 0h-2v-4h2v4z\"/>\n",
              "    </g>\n",
              "</svg>\n",
              "      </button>\n",
              "\n",
              "<style>\n",
              "  .colab-df-quickchart {\n",
              "      --bg-color: #E8F0FE;\n",
              "      --fill-color: #1967D2;\n",
              "      --hover-bg-color: #E2EBFA;\n",
              "      --hover-fill-color: #174EA6;\n",
              "      --disabled-fill-color: #AAA;\n",
              "      --disabled-bg-color: #DDD;\n",
              "  }\n",
              "\n",
              "  [theme=dark] .colab-df-quickchart {\n",
              "      --bg-color: #3B4455;\n",
              "      --fill-color: #D2E3FC;\n",
              "      --hover-bg-color: #434B5C;\n",
              "      --hover-fill-color: #FFFFFF;\n",
              "      --disabled-bg-color: #3B4455;\n",
              "      --disabled-fill-color: #666;\n",
              "  }\n",
              "\n",
              "  .colab-df-quickchart {\n",
              "    background-color: var(--bg-color);\n",
              "    border: none;\n",
              "    border-radius: 50%;\n",
              "    cursor: pointer;\n",
              "    display: none;\n",
              "    fill: var(--fill-color);\n",
              "    height: 32px;\n",
              "    padding: 0;\n",
              "    width: 32px;\n",
              "  }\n",
              "\n",
              "  .colab-df-quickchart:hover {\n",
              "    background-color: var(--hover-bg-color);\n",
              "    box-shadow: 0 1px 2px rgba(60, 64, 67, 0.3), 0 1px 3px 1px rgba(60, 64, 67, 0.15);\n",
              "    fill: var(--button-hover-fill-color);\n",
              "  }\n",
              "\n",
              "  .colab-df-quickchart-complete:disabled,\n",
              "  .colab-df-quickchart-complete:disabled:hover {\n",
              "    background-color: var(--disabled-bg-color);\n",
              "    fill: var(--disabled-fill-color);\n",
              "    box-shadow: none;\n",
              "  }\n",
              "\n",
              "  .colab-df-spinner {\n",
              "    border: 2px solid var(--fill-color);\n",
              "    border-color: transparent;\n",
              "    border-bottom-color: var(--fill-color);\n",
              "    animation:\n",
              "      spin 1s steps(1) infinite;\n",
              "  }\n",
              "\n",
              "  @keyframes spin {\n",
              "    0% {\n",
              "      border-color: transparent;\n",
              "      border-bottom-color: var(--fill-color);\n",
              "      border-left-color: var(--fill-color);\n",
              "    }\n",
              "    20% {\n",
              "      border-color: transparent;\n",
              "      border-left-color: var(--fill-color);\n",
              "      border-top-color: var(--fill-color);\n",
              "    }\n",
              "    30% {\n",
              "      border-color: transparent;\n",
              "      border-left-color: var(--fill-color);\n",
              "      border-top-color: var(--fill-color);\n",
              "      border-right-color: var(--fill-color);\n",
              "    }\n",
              "    40% {\n",
              "      border-color: transparent;\n",
              "      border-right-color: var(--fill-color);\n",
              "      border-top-color: var(--fill-color);\n",
              "    }\n",
              "    60% {\n",
              "      border-color: transparent;\n",
              "      border-right-color: var(--fill-color);\n",
              "    }\n",
              "    80% {\n",
              "      border-color: transparent;\n",
              "      border-right-color: var(--fill-color);\n",
              "      border-bottom-color: var(--fill-color);\n",
              "    }\n",
              "    90% {\n",
              "      border-color: transparent;\n",
              "      border-bottom-color: var(--fill-color);\n",
              "    }\n",
              "  }\n",
              "</style>\n",
              "\n",
              "      <script>\n",
              "        async function quickchart(key) {\n",
              "          const quickchartButtonEl =\n",
              "            document.querySelector('#' + key + ' button');\n",
              "          quickchartButtonEl.disabled = true;  // To prevent multiple clicks.\n",
              "          quickchartButtonEl.classList.add('colab-df-spinner');\n",
              "          try {\n",
              "            const charts = await google.colab.kernel.invokeFunction(\n",
              "                'suggestCharts', [key], {});\n",
              "          } catch (error) {\n",
              "            console.error('Error during call to suggestCharts:', error);\n",
              "          }\n",
              "          quickchartButtonEl.classList.remove('colab-df-spinner');\n",
              "          quickchartButtonEl.classList.add('colab-df-quickchart-complete');\n",
              "        }\n",
              "        (() => {\n",
              "          let quickchartButtonEl =\n",
              "            document.querySelector('#df-ec0e818f-94cd-4a4e-b65b-2e4b794fcbb4 button');\n",
              "          quickchartButtonEl.style.display =\n",
              "            google.colab.kernel.accessAllowed ? 'block' : 'none';\n",
              "        })();\n",
              "      </script>\n",
              "    </div>\n",
              "\n",
              "    </div>\n",
              "  </div>\n"
            ],
            "application/vnd.google.colaboratory.intrinsic+json": {
              "type": "dataframe"
            }
          },
          "metadata": {},
          "execution_count": 19
        }
      ]
    },
    {
      "cell_type": "code",
      "source": [
        "plt.figure(figsize=(8, 5))\n",
        "sns.histplot(df[\"band_gap\"], kde=True, bins=50, color=\"steelblue\")\n",
        "plt.title(\"Band Gap Value Distribution\")\n",
        "plt.xlabel(\"Band Gap (meV)\")\n",
        "plt.ylabel(\"Count\")\n",
        "plt.grid(True)\n",
        "plt.show()"
      ],
      "metadata": {
        "colab": {
          "base_uri": "https://localhost:8080/",
          "height": 487
        },
        "id": "ZH-X1TpIlYFA",
        "outputId": "ae8d7c14-3476-4f6a-bbbe-b02e474c53a3"
      },
      "execution_count": 23,
      "outputs": [
        {
          "output_type": "display_data",
          "data": {
            "text/plain": [
              "<Figure size 800x500 with 1 Axes>"
            ],
            "image/png": "[encoded data removed]"
          },
          "metadata": {}
        }
      ]
    },
    {
      "cell_type": "code",
      "source": [
        "quantiles = df[\"band_gap\"].quantile([0.1, 0.2, 0.3, 0.5, 0.7, 0.9])\n",
        "print(quantiles)"
      ],
      "metadata": {
        "colab": {
          "base_uri": "https://localhost:8080/"
        },
        "id": "G03mHOkzogOq",
        "outputId": "bae796f6-752c-4ef1-a14f-77c67bd51948"
      },
      "execution_count": 24,
      "outputs": [
        {
          "output_type": "stream",
          "name": "stdout",
          "text": [
            "0.1    0.18197\n",
            "0.2    0.50824\n",
            "0.3    0.89200\n",
            "0.5    1.75465\n",
            "0.7    2.73818\n",
            "0.9    4.21536\n",
            "Name: band_gap, dtype: float64\n"
          ]
        }
      ]
    },
    {
      "cell_type": "code",
      "source": [
        "plt.figure(figsize=(8, 5))\n",
        "sns.ecdfplot(df[\"band_gap\"])\n",
        "plt.title(\"Cumulative Distribution of Band Gap\")\n",
        "plt.xlabel(\"Band Gap (eV)\")\n",
        "plt.ylabel(\"Cumulative Probability\")\n",
        "plt.grid(True)\n",
        "plt.show()"
      ],
      "metadata": {
        "colab": {
          "base_uri": "https://localhost:8080/",
          "height": 487
        },
        "id": "HcoTOJ05oIKH",
        "outputId": "ab15801e-134c-48d8-9185-4d0f6c1a9100"
      },
      "execution_count": 25,
      "outputs": [
        {
          "output_type": "display_data",
          "data": {
            "text/plain": [
              "<Figure size 800x500 with 1 Axes>"
            ],
            "image/png": "[encoded data removed]"
          },
          "metadata": {}
        }
      ]
    },
    {
      "cell_type": "markdown",
      "source": [
        "## Processed (Donwsampled) Dataset"
      ],
      "metadata": {
        "id": "Idd1L0YqkNUP"
      }
    },
    {
      "cell_type": "code",
      "source": [
        "# downsample overrepresented region of low band gap values\n",
        "cutoff = 1.75\n",
        "downsample_frac = 0.5\n",
        "\n",
        "# Split low and high band gap regions\n",
        "low_gap_df = df[df[\"band_gap\"] <= cutoff]\n",
        "high_gap_df = df[df[\"band_gap\"] > cutoff]\n",
        "\n",
        "# Separate low-gap into rows without and with missing values\n",
        "low_gap_without_na = low_gap_df[~low_gap_df.isnull().any(axis=1)]\n",
        "low_gap_with_na = low_gap_df[low_gap_df.isnull().any(axis=1)]\n",
        "\n",
        "# Number of rows to keep\n",
        "n_keep = int(len(low_gap_df) * downsample_frac)\n",
        "\n",
        "# Sample from clean rows first\n",
        "n_clean = len(low_gap_without_na)\n",
        "n_clean_sample = min(n_keep, n_clean)\n",
        "\n",
        "sampled_without_na = low_gap_without_na.sample(n=n_clean_sample, random_state=42)\n",
        "\n",
        "# If more are needed, sample the rest from rows with missing values\n",
        "remaining_needed = n_keep - n_clean_sample\n",
        "\n",
        "if remaining_needed > 0:\n",
        "    sampled_with_na = low_gap_with_na.sample(n=remaining_needed, random_state=42)\n",
        "else:\n",
        "    sampled_with_na = pd.DataFrame(columns=low_gap_df.columns)  # empty placeholder\n",
        "\n",
        "# Concatenate sampled low-gap data\n",
        "low_gap_downsampled = pd.concat([sampled_without_na, sampled_with_na])\n",
        "\n",
        "# Concatenate with all high-gap data\n",
        "df_balanced = pd.concat([low_gap_downsampled, high_gap_df])"
      ],
      "metadata": {
        "colab": {
          "base_uri": "https://localhost:8080/"
        },
        "id": "aNRYvIkzjrzd",
        "outputId": "7c6cec80-4545-4628-82f6-f96096bfb172"
      },
      "execution_count": 41,
      "outputs": [
        {
          "output_type": "stream",
          "name": "stderr",
          "text": [
            "<ipython-input-41-9b313e81a7a9>:31: FutureWarning: The behavior of DataFrame concatenation with empty or all-NA entries is deprecated. In a future version, this will no longer exclude empty or all-NA columns when determining the result dtypes. To retain the old behavior, exclude the relevant entries before the concat operation.\n",
            "  low_gap_downsampled = pd.concat([sampled_without_na, sampled_with_na])\n"
          ]
        }
      ]
    },
    {
      "cell_type": "code",
      "source": [
        "print(\"Balanced dataset shape:\", df_balanced.shape)\n",
        "print(\"Missing values (any):\", df_balanced.isnull().any(axis=1).sum())"
      ],
      "metadata": {
        "colab": {
          "base_uri": "https://localhost:8080/"
        },
        "id": "Gv4M1JrvsFkf",
        "outputId": "ed9b6e16-0815-43e7-a6fb-396530577579"
      },
      "execution_count": 42,
      "outputs": [
        {
          "output_type": "stream",
          "name": "stdout",
          "text": [
            "Balanced dataset shape: (61540, 80)\n",
            "Missing values (any): 169\n"
          ]
        }
      ]
    },
    {
      "cell_type": "code",
      "source": [
        "plt.figure(figsize=(8, 5))\n",
        "sns.histplot(df_balanced[\"band_gap\"], bins=50, kde=True, color=\"steelblue\", edgecolor=\"black\")\n",
        "plt.title(\"Band Gap Distribution After Balancing\")\n",
        "plt.xlabel(\"Band Gap (eV)\")\n",
        "plt.ylabel(\"Number of Materials\")\n",
        "plt.grid(True)\n",
        "plt.tight_layout()\n",
        "plt.show()"
      ],
      "metadata": {
        "colab": {
          "base_uri": "https://localhost:8080/",
          "height": 507
        },
        "id": "bVZx51W_sYWV",
        "outputId": "6056bc0e-efe0-4d66-d488-e375708651d1"
      },
      "execution_count": 44,
      "outputs": [
        {
          "output_type": "display_data",
          "data": {
            "text/plain": [
              "<Figure size 800x500 with 1 Axes>"
            ],
            "image/png": "[encoded data removed]"
          },
          "metadata": {}
        }
      ]
    },
    {
      "cell_type": "code",
      "source": [
        "# save dataset to Google Drive\n",
        "save_path = '/content/drive/MyDrive/Project Documents ML-CMT/bandgap_dataset_balanced.csv'\n",
        "\n",
        "# Save DataFrame\n",
        "df_balanced.to_csv(save_path, index=False)\n",
        "print(f\"Dataset saved to {save_path}\")"
      ],
      "metadata": {
        "colab": {
          "base_uri": "https://localhost:8080/"
        },
        "id": "w6BkGfpNspVX",
        "outputId": "ff25c4fb-468d-4f80-e2ee-5b08d78dc0d4"
      },
      "execution_count": 45,
      "outputs": [
        {
          "output_type": "stream",
          "name": "stdout",
          "text": [
            "Dataset saved to /content/drive/MyDrive/Project Documents ML-CMT/bandgap_dataset_balanced.csv\n"
          ]
        }
      ]
    }
  ]
}