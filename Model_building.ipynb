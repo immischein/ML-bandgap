{
  "nbformat": 4,
  "nbformat_minor": 0,
  "metadata": {
    "colab": {
      "provenance": [],
      "toc_visible": true,
      "authorship_tag": "ABX9TyOM1/5aS6QIixQwiHakVGML",
      "include_colab_link": true
    },
    "kernelspec": {
      "name": "python3",
      "display_name": "Python 3"
    },
    "language_info": {
      "name": "python"
    }
  },
  "cells": [
    {
      "cell_type": "markdown",
      "metadata": {
        "id": "view-in-github",
        "colab_type": "text"
      },
      "source": [
        "<a href=\"https://colab.research.google.com/github/immischein/ML-bandgap/blob/main/Model_building.ipynb\" target=\"_parent\"><img src=\"https://colab.research.google.com/assets/colab-badge.svg\" alt=\"Open In Colab\"/></a>"
      ]
    },
    {
      "cell_type": "markdown",
      "source": [
        "# Imports"
      ],
      "metadata": {
        "id": "TjwXHyNVOD-z"
      }
    },
    {
      "cell_type": "code",
      "execution_count": 1,
      "metadata": {
        "id": "S-YkT-sLM0cI"
      },
      "outputs": [],
      "source": [
        "import numpy as np\n",
        "import torch\n",
        "import matplotlib.pyplot as plt\n",
        "import torch.nn as nn\n",
        "import torch.nn.functional as F\n",
        "import torch.optim as optim"
      ]
    },
    {
      "cell_type": "markdown",
      "source": [
        "\n",
        "# Data Imports and Processing\n"
      ],
      "metadata": {
        "id": "bIjelYesOGyA"
      }
    },
    {
      "cell_type": "code",
      "source": [
        "# Load the JSON data\n",
        "with open(\"materials_data.json\") as f:\n",
        "    materials_data = json.load(f)"
      ],
      "metadata": {
        "id": "0P55-VbYOK7_"
      },
      "execution_count": null,
      "outputs": []
    },
    {
      "cell_type": "code",
      "source": [
        "# Build tabular dataset\n",
        "records = []\n",
        "for m in materials_data:\n",
        "    struct = Structure.from_dict(m[\"structure\"])\n",
        "    record = {\n",
        "        \"material_id\": m[\"material_id\"],\n",
        "        \"band_gap\": m[\"band_gap\"],\n",
        "        \"formula\": m[\"formula_pretty\"],\n",
        "        \"density\": m[\"density\"],\n",
        "        \"volume\": m[\"volume\"],\n",
        "        \"a\": struct.lattice.a,\n",
        "        \"b\": struct.lattice.b,\n",
        "        \"c\": struct.lattice.c,\n",
        "        \"alpha\": struct.lattice.alpha,\n",
        "        \"beta\": struct.lattice.beta,\n",
        "        \"gamma\": struct.lattice.gamma,\n",
        "        \"n_atoms\": m[\"nsites\"]\n",
        "    }\n",
        "    records.append(record)\n",
        "\n",
        "# df = pd.DataFrame(records)\n",
        "# df.to_csv(\"bandgap_dataset.csv\", index=False)\n",
        "\n",
        "# print(f\"Saved tabular dataset to bandgap_dataset.csv with shape {df.shape}\")"
      ],
      "metadata": {
        "id": "BUNpHyQFOZHr"
      },
      "execution_count": null,
      "outputs": []
    },
    {
      "cell_type": "code",
      "source": [
        "df = pd.DataFrame(records)"
      ],
      "metadata": {
        "colab": {
          "base_uri": "https://localhost:8080/",
          "height": 139
        },
        "id": "3xdFbkMcOdC0",
        "outputId": "2a630722-5098-45ee-c1b0-5d5412fb10c0"
      },
      "execution_count": 8,
      "outputs": [
        {
          "output_type": "error",
          "ename": "NameError",
          "evalue": "name 'pd' is not defined",
          "traceback": [
            "\u001b[0;31m---------------------------------------------------------------------------\u001b[0m",
            "\u001b[0;31mNameError\u001b[0m                                 Traceback (most recent call last)",
            "\u001b[0;32m<ipython-input-8-82518d86c55a>\u001b[0m in \u001b[0;36m<cell line: 0>\u001b[0;34m()\u001b[0m\n\u001b[0;32m----> 1\u001b[0;31m \u001b[0mdf\u001b[0m \u001b[0;34m=\u001b[0m \u001b[0mpd\u001b[0m\u001b[0;34m.\u001b[0m\u001b[0mDataFrame\u001b[0m\u001b[0;34m(\u001b[0m\u001b[0mrecords\u001b[0m\u001b[0;34m)\u001b[0m\u001b[0;34m\u001b[0m\u001b[0;34m\u001b[0m\u001b[0m\n\u001b[0m",
            "\u001b[0;31mNameError\u001b[0m: name 'pd' is not defined"
          ]
        }
      ]
    },
    {
      "cell_type": "code",
      "source": [
        "class Bandgaps_Regression(torch.nn.Module):\n",
        "    def __init__(self):\n",
        "        super(Bandgaps_Regression, self).__init__()\n",
        "        self.linear = torch.nn.Linear(2,1)\n",
        "\n",
        "    def forward(self,x):\n",
        "        y = torch.sigmoid(self.linear(x))\n",
        "        return y"
      ],
      "metadata": {
        "id": "mlZ0d_q0NA8I"
      },
      "execution_count": 4,
      "outputs": []
    },
    {
      "cell_type": "code",
      "source": [
        "model = Bandgaps_Regression()"
      ],
      "metadata": {
        "id": "wNkuekL-NA3e"
      },
      "execution_count": 5,
      "outputs": []
    },
    {
      "cell_type": "code",
      "source": [
        "criterion = torch.nn.MSELoss()\n",
        "optimizer = torch.optim.SGD(model.parameters(), lr=0.01)"
      ],
      "metadata": {
        "id": "UodXwPU2M-PE"
      },
      "execution_count": 6,
      "outputs": []
    },
    {
      "cell_type": "code",
      "source": [
        "\n",
        "model.train()\n",
        "\n",
        "for epoch in range(200000):\n",
        "    optimizer.zero_grad()\n",
        "\n",
        "    # forward pass\n",
        "    Y_pred = model(X_tensor)\n",
        "\n",
        "    # compute loss\n",
        "    loss = criterion(Y_pred, T_tensor)\n",
        "    if epoch% 1000 == 0:\n",
        "        print(loss.item())\n",
        "    # backward pass\n",
        "    loss.backward()\n",
        "    optimizer.step()"
      ],
      "metadata": {
        "colab": {
          "base_uri": "https://localhost:8080/",
          "height": 207
        },
        "id": "ZGzWNwzvN-o0",
        "outputId": "4583fbe4-0ea6-4bb8-a807-12baa23db240"
      },
      "execution_count": 7,
      "outputs": [
        {
          "output_type": "error",
          "ename": "NameError",
          "evalue": "name 'X_tensor' is not defined",
          "traceback": [
            "\u001b[0;31m---------------------------------------------------------------------------\u001b[0m",
            "\u001b[0;31mNameError\u001b[0m                                 Traceback (most recent call last)",
            "\u001b[0;32m<ipython-input-7-230a0349cda6>\u001b[0m in \u001b[0;36m<cell line: 0>\u001b[0;34m()\u001b[0m\n\u001b[1;32m      5\u001b[0m \u001b[0;34m\u001b[0m\u001b[0m\n\u001b[1;32m      6\u001b[0m     \u001b[0;31m# forward pass\u001b[0m\u001b[0;34m\u001b[0m\u001b[0;34m\u001b[0m\u001b[0m\n\u001b[0;32m----> 7\u001b[0;31m     \u001b[0mY_pred\u001b[0m \u001b[0;34m=\u001b[0m \u001b[0mmodel\u001b[0m\u001b[0;34m(\u001b[0m\u001b[0mX_tensor\u001b[0m\u001b[0;34m)\u001b[0m\u001b[0;34m\u001b[0m\u001b[0;34m\u001b[0m\u001b[0m\n\u001b[0m\u001b[1;32m      8\u001b[0m \u001b[0;34m\u001b[0m\u001b[0m\n\u001b[1;32m      9\u001b[0m     \u001b[0;31m# compute loss\u001b[0m\u001b[0;34m\u001b[0m\u001b[0;34m\u001b[0m\u001b[0m\n",
            "\u001b[0;31mNameError\u001b[0m: name 'X_tensor' is not defined"
          ]
        }
      ]
    },
    {
      "cell_type": "code",
      "source": [],
      "metadata": {
        "id": "nZxOJJIJOBfn"
      },
      "execution_count": null,
      "outputs": []
    }
  ]
}