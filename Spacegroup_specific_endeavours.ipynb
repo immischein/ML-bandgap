{
  "nbformat": 4,
  "nbformat_minor": 0,
  "metadata": {
    "colab": {
      "provenance": [],
      "mount_file_id": "1fSYDD_9WZMa6WZFX57tE0Xxy4FFYjjvV",
      "authorship_tag": "ABX9TyOi0+j1IDQT9JsKpXgLpgTO",
      "include_colab_link": true
    },
    "kernelspec": {
      "name": "python3",
      "display_name": "Python 3"
    },
    "language_info": {
      "name": "python"
    }
  },
  "cells": [
    {
      "cell_type": "markdown",
      "metadata": {
        "id": "view-in-github",
        "colab_type": "text"
      },
      "source": [
        "<a href=\"https://colab.research.google.com/github/immischein/ML-bandgap/blob/main/Spacegroup_specific_endeavours.ipynb\" target=\"_parent\"><img src=\"https://colab.research.google.com/assets/colab-badge.svg\" alt=\"Open In Colab\"/></a>"
      ]
    },
    {
      "cell_type": "code",
      "execution_count": 1,
      "metadata": {
        "id": "J7XDozeTUoob",
        "outputId": "9ea68170-1254-41c3-d4e1-845526199d52",
        "colab": {
          "base_uri": "https://localhost:8080/",
          "height": 378
        }
      },
      "outputs": [
        {
          "output_type": "error",
          "ename": "ModuleNotFoundError",
          "evalue": "No module named 'mp_api'",
          "traceback": [
            "\u001b[0;31m---------------------------------------------------------------------------\u001b[0m",
            "\u001b[0;31mModuleNotFoundError\u001b[0m                       Traceback (most recent call last)",
            "\u001b[0;32m<ipython-input-1-1729889ff804>\u001b[0m in \u001b[0;36m<cell line: 0>\u001b[0;34m()\u001b[0m\n\u001b[1;32m      1\u001b[0m \u001b[0;31m# Import\u001b[0m\u001b[0;34m\u001b[0m\u001b[0;34m\u001b[0m\u001b[0m\n\u001b[0;32m----> 2\u001b[0;31m \u001b[0;32mfrom\u001b[0m \u001b[0mmp_api\u001b[0m\u001b[0;34m.\u001b[0m\u001b[0mclient\u001b[0m \u001b[0;32mimport\u001b[0m \u001b[0mMPRester\u001b[0m\u001b[0;34m\u001b[0m\u001b[0;34m\u001b[0m\u001b[0m\n\u001b[0m\u001b[1;32m      3\u001b[0m \u001b[0;32mimport\u001b[0m \u001b[0mmatplotlib\u001b[0m\u001b[0;34m.\u001b[0m\u001b[0mpyplot\u001b[0m \u001b[0;32mas\u001b[0m \u001b[0mplt\u001b[0m\u001b[0;34m\u001b[0m\u001b[0;34m\u001b[0m\u001b[0m\n\u001b[1;32m      4\u001b[0m \u001b[0;32mimport\u001b[0m \u001b[0mnumpy\u001b[0m \u001b[0;32mas\u001b[0m \u001b[0mnp\u001b[0m\u001b[0;34m\u001b[0m\u001b[0;34m\u001b[0m\u001b[0m\n\u001b[1;32m      5\u001b[0m \u001b[0;32mimport\u001b[0m \u001b[0mpandas\u001b[0m \u001b[0;32mas\u001b[0m \u001b[0mpd\u001b[0m\u001b[0;34m\u001b[0m\u001b[0;34m\u001b[0m\u001b[0m\n",
            "\u001b[0;31mModuleNotFoundError\u001b[0m: No module named 'mp_api'",
            "",
            "\u001b[0;31m---------------------------------------------------------------------------\u001b[0;32m\nNOTE: If your import is failing due to a missing package, you can\nmanually install dependencies using either !pip or !apt.\n\nTo view examples of installing some common dependencies, click the\n\"Open Examples\" button below.\n\u001b[0;31m---------------------------------------------------------------------------\u001b[0m\n"
          ],
          "errorDetails": {
            "actions": [
              {
                "action": "open_url",
                "actionText": "Open Examples",
                "url": "/notebooks/snippets/importing_libraries.ipynb"
              }
            ]
          }
        }
      ],
      "source": [
        "# Import\n",
        "from mp_api.client import MPRester\n",
        "import matplotlib.pyplot as plt\n",
        "import numpy as np\n",
        "import pandas as pd\n",
        "import pickle\n",
        "import json\n",
        "from pymatgen.core.structure import Structure\n",
        "import matplotlib.pyplot as plt\n",
        "import seaborn as sns\n",
        "from pymatgen.core.composition import Composition\n",
        "from pymatgen.core.periodic_table import Element\n",
        "import time"
      ]
    },
    {
      "cell_type": "code",
      "source": [
        "# You might need to reinstall the library manually, imports ans pip install:\n",
        "!pip install mp_api\n",
        "!pip install pymatgen"
      ],
      "metadata": {
        "id": "9JJrTuE7U6Ct",
        "collapsed": true
      },
      "execution_count": null,
      "outputs": []
    },
    {
      "cell_type": "code",
      "source": [
        "with MPRester(\"VlQ1oWGAXlhWiKRkPOk5q1cP8dNS6mIu\") as mpr:\n",
        "  #Please edit features you want to filter from inside the search() command. for example:\n",
        "  example_docs = mpr.materials.summary.search(spacegroup_number = 221, num_sites = 5)\n"
      ],
      "metadata": {
        "id": "eiNUxHKdVaiG"
      },
      "execution_count": null,
      "outputs": []
    },
    {
      "cell_type": "code",
      "source": [
        "material_positions_frac = []\n",
        "material_positions = []\n",
        "bandgaps = []\n",
        "for m in example_docs:\n",
        "  single_material_positions = []\n",
        "  single_material_frac_positions = []\n",
        "  for site in m.structure.sites:\n",
        "    frac_coords = site.frac_coords\n",
        "    single_material_frac_positions.append(site.frac_coords)\n",
        "    single_material_positions.append(site.coords)\n",
        "\n",
        "  material_positions_frac.append(single_material_frac_positions)\n",
        "  material_positions.append(single_material_positions)\n",
        "  bandgaps.append(m.band_gap)"
      ],
      "metadata": {
        "id": "jHGro8iGJDzh"
      },
      "execution_count": 5,
      "outputs": []
    },
    {
      "cell_type": "code",
      "source": [
        "all_material = []\n",
        "\n",
        "for group in material_positions_frac:\n",
        "  unique_positions = []\n",
        "  for coord in group:\n",
        "      # Round to 4 decimal places to eliminate noise\n",
        "      rounded = tuple(np.round(coord % 1, 4))  # mod 1 ensures coords are in [0, 1)\n",
        "      unique_positions.append(rounded)\n",
        "  all_material.append(unique_positions.copy())"
      ],
      "metadata": {
        "id": "UExdk_e2aep4"
      },
      "execution_count": 6,
      "outputs": []
    },
    {
      "cell_type": "code",
      "source": [
        "df = pd.DataFrame(list(zip(material_positions_frac, material_positions, bandgaps)),\n",
        "               columns =['all_material', 'material_positions', 'bandgaps'])"
      ],
      "metadata": {
        "id": "zGULtFtRPGFA"
      },
      "execution_count": 7,
      "outputs": []
    },
    {
      "cell_type": "code",
      "source": [
        "df"
      ],
      "metadata": {
        "id": "m9JJxKwVamiJ",
        "outputId": "d2824e19-4bf4-48df-b602-09472253a926",
        "colab": {
          "base_uri": "https://localhost:8080/",
          "height": 419
        }
      },
      "execution_count": 8,
      "outputs": [
        {
          "output_type": "execute_result",
          "data": {
            "text/plain": [
              "                                           all_material  \\\n",
              "0     [[-0.0, 0.0, 0.0], [0.5, 0.5, 0.5], [0.5, 0.5,...   \n",
              "1     [[0.0, 0.0, 0.0], [0.5, 0.5, 0.5], [0.5, 0.5, ...   \n",
              "2     [[-0.0, -0.0, -0.0], [0.5, 0.5, 0.5], [0.5, 0....   \n",
              "3     [[0.0, 0.0, 0.0], [0.499998, 0.499998, 0.49999...   \n",
              "4     [[-0.0, 0.0, 0.0], [0.499998999999999, 0.49999...   \n",
              "...                                                 ...   \n",
              "1453  [[0.0, 0.0, 0.0], [-0.0, 0.5, 0.5], [0.5, -0.0...   \n",
              "1454  [[0.0, 0.0, 0.0], [0.5, 0.5, 0.5], [0.5, 0.5, ...   \n",
              "1455  [[0.0, 0.0, 0.0], [0.5, 0.5, 0.5], [0.5, 0.5, ...   \n",
              "1456  [[0.5, 0.5, 0.5], [0.0, 0.0, 0.0], [0.5, 0.5, ...   \n",
              "1457  [[0.5, 0.5, 0.5], [0.0, 0.0, 0.0], [0.5, 0.5, ...   \n",
              "\n",
              "                                     material_positions  bandgaps  \n",
              "0     [[0.0, 0.0, 0.0], [1.9293169350000001, 1.92931...    4.1024  \n",
              "1     [[0.0, 0.0, 0.0], [1.860834, 1.860834, 1.86083...    0.8071  \n",
              "2     [[0.0, 0.0, 0.0], [1.97214345, 1.97215113, 1.9...    2.0031  \n",
              "3     [[0.0, 0.0, 0.0], [1.9566577983375, 1.95665779...    0.0000  \n",
              "4     [[0.0, 0.0, 0.0], [1.9767808564303762, 1.97677...    0.9888  \n",
              "...                                                 ...       ...  \n",
              "1453  [[0.0, 0.0, 0.0], [0.0, 2.03775825, 2.03775825...    0.0000  \n",
              "1454  [[0.0, 0.0, 0.0], [1.8317364999999994, 1.83173...    0.0000  \n",
              "1455  [[0.0, 0.0, 0.0], [1.9295495, 1.9295495, 1.929...    0.0000  \n",
              "1456  [[2.106323, 2.106323, 2.106323], [0.0, 0.0, 0....    0.0000  \n",
              "1457  [[2.071531, 2.071531, 2.071531], [0.0, 0.0, 0....    0.0000  \n",
              "\n",
              "[1458 rows x 3 columns]"
            ],
            "text/html": [
              "\n",
              "  <div id=\"df-f19067e7-591a-4dcb-b6f8-8cc46bccc8cf\" class=\"colab-df-container\">\n",
              "    <div>\n",
              "<style scoped>\n",
              "    .dataframe tbody tr th:only-of-type {\n",
              "        vertical-align: middle;\n",
              "    }\n",
              "\n",
              "    .dataframe tbody tr th {\n",
              "        vertical-align: top;\n",
              "    }\n",
              "\n",
              "    .dataframe thead th {\n",
              "        text-align: right;\n",
              "    }\n",
              "</style>\n",
              "<table border=\"1\" class=\"dataframe\">\n",
              "  <thead>\n",
              "    <tr style=\"text-align: right;\">\n",
              "      <th></th>\n",
              "      <th>all_material</th>\n",
              "      <th>material_positions</th>\n",
              "      <th>bandgaps</th>\n",
              "    </tr>\n",
              "  </thead>\n",
              "  <tbody>\n",
              "    <tr>\n",
              "      <th>0</th>\n",
              "      <td>[[-0.0, 0.0, 0.0], [0.5, 0.5, 0.5], [0.5, 0.5,...</td>\n",
              "      <td>[[0.0, 0.0, 0.0], [1.9293169350000001, 1.92931...</td>\n",
              "      <td>4.1024</td>\n",
              "    </tr>\n",
              "    <tr>\n",
              "      <th>1</th>\n",
              "      <td>[[0.0, 0.0, 0.0], [0.5, 0.5, 0.5], [0.5, 0.5, ...</td>\n",
              "      <td>[[0.0, 0.0, 0.0], [1.860834, 1.860834, 1.86083...</td>\n",
              "      <td>0.8071</td>\n",
              "    </tr>\n",
              "    <tr>\n",
              "      <th>2</th>\n",
              "      <td>[[-0.0, -0.0, -0.0], [0.5, 0.5, 0.5], [0.5, 0....</td>\n",
              "      <td>[[0.0, 0.0, 0.0], [1.97214345, 1.97215113, 1.9...</td>\n",
              "      <td>2.0031</td>\n",
              "    </tr>\n",
              "    <tr>\n",
              "      <th>3</th>\n",
              "      <td>[[0.0, 0.0, 0.0], [0.499998, 0.499998, 0.49999...</td>\n",
              "      <td>[[0.0, 0.0, 0.0], [1.9566577983375, 1.95665779...</td>\n",
              "      <td>0.0000</td>\n",
              "    </tr>\n",
              "    <tr>\n",
              "      <th>4</th>\n",
              "      <td>[[-0.0, 0.0, 0.0], [0.499998999999999, 0.49999...</td>\n",
              "      <td>[[0.0, 0.0, 0.0], [1.9767808564303762, 1.97677...</td>\n",
              "      <td>0.9888</td>\n",
              "    </tr>\n",
              "    <tr>\n",
              "      <th>...</th>\n",
              "      <td>...</td>\n",
              "      <td>...</td>\n",
              "      <td>...</td>\n",
              "    </tr>\n",
              "    <tr>\n",
              "      <th>1453</th>\n",
              "      <td>[[0.0, 0.0, 0.0], [-0.0, 0.5, 0.5], [0.5, -0.0...</td>\n",
              "      <td>[[0.0, 0.0, 0.0], [0.0, 2.03775825, 2.03775825...</td>\n",
              "      <td>0.0000</td>\n",
              "    </tr>\n",
              "    <tr>\n",
              "      <th>1454</th>\n",
              "      <td>[[0.0, 0.0, 0.0], [0.5, 0.5, 0.5], [0.5, 0.5, ...</td>\n",
              "      <td>[[0.0, 0.0, 0.0], [1.8317364999999994, 1.83173...</td>\n",
              "      <td>0.0000</td>\n",
              "    </tr>\n",
              "    <tr>\n",
              "      <th>1455</th>\n",
              "      <td>[[0.0, 0.0, 0.0], [0.5, 0.5, 0.5], [0.5, 0.5, ...</td>\n",
              "      <td>[[0.0, 0.0, 0.0], [1.9295495, 1.9295495, 1.929...</td>\n",
              "      <td>0.0000</td>\n",
              "    </tr>\n",
              "    <tr>\n",
              "      <th>1456</th>\n",
              "      <td>[[0.5, 0.5, 0.5], [0.0, 0.0, 0.0], [0.5, 0.5, ...</td>\n",
              "      <td>[[2.106323, 2.106323, 2.106323], [0.0, 0.0, 0....</td>\n",
              "      <td>0.0000</td>\n",
              "    </tr>\n",
              "    <tr>\n",
              "      <th>1457</th>\n",
              "      <td>[[0.5, 0.5, 0.5], [0.0, 0.0, 0.0], [0.5, 0.5, ...</td>\n",
              "      <td>[[2.071531, 2.071531, 2.071531], [0.0, 0.0, 0....</td>\n",
              "      <td>0.0000</td>\n",
              "    </tr>\n",
              "  </tbody>\n",
              "</table>\n",
              "<p>1458 rows × 3 columns</p>\n",
              "</div>\n",
              "    <div class=\"colab-df-buttons\">\n",
              "\n",
              "  <div class=\"colab-df-container\">\n",
              "    <button class=\"colab-df-convert\" onclick=\"convertToInteractive('df-f19067e7-591a-4dcb-b6f8-8cc46bccc8cf')\"\n",
              "            title=\"Convert this dataframe to an interactive table.\"\n",
              "            style=\"display:none;\">\n",
              "\n",
              "  <svg xmlns=\"http://www.w3.org/2000/svg\" height=\"24px\" viewBox=\"0 -960 960 960\">\n",
              "    <path d=\"M120-120v-720h720v720H120Zm60-500h600v-160H180v160Zm220 220h160v-160H400v160Zm0 220h160v-160H400v160ZM180-400h160v-160H180v160Zm440 0h160v-160H620v160ZM180-180h160v-160H180v160Zm440 0h160v-160H620v160Z\"/>\n",
              "  </svg>\n",
              "    </button>\n",
              "\n",
              "  <style>\n",
              "    .colab-df-container {\n",
              "      display:flex;\n",
              "      gap: 12px;\n",
              "    }\n",
              "\n",
              "    .colab-df-convert {\n",
              "      background-color: #E8F0FE;\n",
              "      border: none;\n",
              "      border-radius: 50%;\n",
              "      cursor: pointer;\n",
              "      display: none;\n",
              "      fill: #1967D2;\n",
              "      height: 32px;\n",
              "      padding: 0 0 0 0;\n",
              "      width: 32px;\n",
              "    }\n",
              "\n",
              "    .colab-df-convert:hover {\n",
              "      background-color: #E2EBFA;\n",
              "      box-shadow: 0px 1px 2px rgba(60, 64, 67, 0.3), 0px 1px 3px 1px rgba(60, 64, 67, 0.15);\n",
              "      fill: #174EA6;\n",
              "    }\n",
              "\n",
              "    .colab-df-buttons div {\n",
              "      margin-bottom: 4px;\n",
              "    }\n",
              "\n",
              "    [theme=dark] .colab-df-convert {\n",
              "      background-color: #3B4455;\n",
              "      fill: #D2E3FC;\n",
              "    }\n",
              "\n",
              "    [theme=dark] .colab-df-convert:hover {\n",
              "      background-color: #434B5C;\n",
              "      box-shadow: 0px 1px 3px 1px rgba(0, 0, 0, 0.15);\n",
              "      filter: drop-shadow(0px 1px 2px rgba(0, 0, 0, 0.3));\n",
              "      fill: #FFFFFF;\n",
              "    }\n",
              "  </style>\n",
              "\n",
              "    <script>\n",
              "      const buttonEl =\n",
              "        document.querySelector('#df-f19067e7-591a-4dcb-b6f8-8cc46bccc8cf button.colab-df-convert');\n",
              "      buttonEl.style.display =\n",
              "        google.colab.kernel.accessAllowed ? 'block' : 'none';\n",
              "\n",
              "      async function convertToInteractive(key) {\n",
              "        const element = document.querySelector('#df-f19067e7-591a-4dcb-b6f8-8cc46bccc8cf');\n",
              "        const dataTable =\n",
              "          await google.colab.kernel.invokeFunction('convertToInteractive',\n",
              "                                                    [key], {});\n",
              "        if (!dataTable) return;\n",
              "\n",
              "        const docLinkHtml = 'Like what you see? Visit the ' +\n",
              "          '<a target=\"_blank\" href=https://colab.research.google.com/notebooks/data_table.ipynb>data table notebook</a>'\n",
              "          + ' to learn more about interactive tables.';\n",
              "        element.innerHTML = '';\n",
              "        dataTable['output_type'] = 'display_data';\n",
              "        await google.colab.output.renderOutput(dataTable, element);\n",
              "        const docLink = document.createElement('div');\n",
              "        docLink.innerHTML = docLinkHtml;\n",
              "        element.appendChild(docLink);\n",
              "      }\n",
              "    </script>\n",
              "  </div>\n",
              "\n",
              "\n",
              "    <div id=\"df-ad5f3fa8-61f6-4ee3-8cd3-a2632719bee5\">\n",
              "      <button class=\"colab-df-quickchart\" onclick=\"quickchart('df-ad5f3fa8-61f6-4ee3-8cd3-a2632719bee5')\"\n",
              "                title=\"Suggest charts\"\n",
              "                style=\"display:none;\">\n",
              "\n",
              "<svg xmlns=\"http://www.w3.org/2000/svg\" height=\"24px\"viewBox=\"0 0 24 24\"\n",
              "     width=\"24px\">\n",
              "    <g>\n",
              "        <path d=\"M19 3H5c-1.1 0-2 .9-2 2v14c0 1.1.9 2 2 2h14c1.1 0 2-.9 2-2V5c0-1.1-.9-2-2-2zM9 17H7v-7h2v7zm4 0h-2V7h2v10zm4 0h-2v-4h2v4z\"/>\n",
              "    </g>\n",
              "</svg>\n",
              "      </button>\n",
              "\n",
              "<style>\n",
              "  .colab-df-quickchart {\n",
              "      --bg-color: #E8F0FE;\n",
              "      --fill-color: #1967D2;\n",
              "      --hover-bg-color: #E2EBFA;\n",
              "      --hover-fill-color: #174EA6;\n",
              "      --disabled-fill-color: #AAA;\n",
              "      --disabled-bg-color: #DDD;\n",
              "  }\n",
              "\n",
              "  [theme=dark] .colab-df-quickchart {\n",
              "      --bg-color: #3B4455;\n",
              "      --fill-color: #D2E3FC;\n",
              "      --hover-bg-color: #434B5C;\n",
              "      --hover-fill-color: #FFFFFF;\n",
              "      --disabled-bg-color: #3B4455;\n",
              "      --disabled-fill-color: #666;\n",
              "  }\n",
              "\n",
              "  .colab-df-quickchart {\n",
              "    background-color: var(--bg-color);\n",
              "    border: none;\n",
              "    border-radius: 50%;\n",
              "    cursor: pointer;\n",
              "    display: none;\n",
              "    fill: var(--fill-color);\n",
              "    height: 32px;\n",
              "    padding: 0;\n",
              "    width: 32px;\n",
              "  }\n",
              "\n",
              "  .colab-df-quickchart:hover {\n",
              "    background-color: var(--hover-bg-color);\n",
              "    box-shadow: 0 1px 2px rgba(60, 64, 67, 0.3), 0 1px 3px 1px rgba(60, 64, 67, 0.15);\n",
              "    fill: var(--button-hover-fill-color);\n",
              "  }\n",
              "\n",
              "  .colab-df-quickchart-complete:disabled,\n",
              "  .colab-df-quickchart-complete:disabled:hover {\n",
              "    background-color: var(--disabled-bg-color);\n",
              "    fill: var(--disabled-fill-color);\n",
              "    box-shadow: none;\n",
              "  }\n",
              "\n",
              "  .colab-df-spinner {\n",
              "    border: 2px solid var(--fill-color);\n",
              "    border-color: transparent;\n",
              "    border-bottom-color: var(--fill-color);\n",
              "    animation:\n",
              "      spin 1s steps(1) infinite;\n",
              "  }\n",
              "\n",
              "  @keyframes spin {\n",
              "    0% {\n",
              "      border-color: transparent;\n",
              "      border-bottom-color: var(--fill-color);\n",
              "      border-left-color: var(--fill-color);\n",
              "    }\n",
              "    20% {\n",
              "      border-color: transparent;\n",
              "      border-left-color: var(--fill-color);\n",
              "      border-top-color: var(--fill-color);\n",
              "    }\n",
              "    30% {\n",
              "      border-color: transparent;\n",
              "      border-left-color: var(--fill-color);\n",
              "      border-top-color: var(--fill-color);\n",
              "      border-right-color: var(--fill-color);\n",
              "    }\n",
              "    40% {\n",
              "      border-color: transparent;\n",
              "      border-right-color: var(--fill-color);\n",
              "      border-top-color: var(--fill-color);\n",
              "    }\n",
              "    60% {\n",
              "      border-color: transparent;\n",
              "      border-right-color: var(--fill-color);\n",
              "    }\n",
              "    80% {\n",
              "      border-color: transparent;\n",
              "      border-right-color: var(--fill-color);\n",
              "      border-bottom-color: var(--fill-color);\n",
              "    }\n",
              "    90% {\n",
              "      border-color: transparent;\n",
              "      border-bottom-color: var(--fill-color);\n",
              "    }\n",
              "  }\n",
              "</style>\n",
              "\n",
              "      <script>\n",
              "        async function quickchart(key) {\n",
              "          const quickchartButtonEl =\n",
              "            document.querySelector('#' + key + ' button');\n",
              "          quickchartButtonEl.disabled = true;  // To prevent multiple clicks.\n",
              "          quickchartButtonEl.classList.add('colab-df-spinner');\n",
              "          try {\n",
              "            const charts = await google.colab.kernel.invokeFunction(\n",
              "                'suggestCharts', [key], {});\n",
              "          } catch (error) {\n",
              "            console.error('Error during call to suggestCharts:', error);\n",
              "          }\n",
              "          quickchartButtonEl.classList.remove('colab-df-spinner');\n",
              "          quickchartButtonEl.classList.add('colab-df-quickchart-complete');\n",
              "        }\n",
              "        (() => {\n",
              "          let quickchartButtonEl =\n",
              "            document.querySelector('#df-ad5f3fa8-61f6-4ee3-8cd3-a2632719bee5 button');\n",
              "          quickchartButtonEl.style.display =\n",
              "            google.colab.kernel.accessAllowed ? 'block' : 'none';\n",
              "        })();\n",
              "      </script>\n",
              "    </div>\n",
              "\n",
              "  <div id=\"id_0f57a199-f291-4bd3-991f-789b536aab42\">\n",
              "    <style>\n",
              "      .colab-df-generate {\n",
              "        background-color: #E8F0FE;\n",
              "        border: none;\n",
              "        border-radius: 50%;\n",
              "        cursor: pointer;\n",
              "        display: none;\n",
              "        fill: #1967D2;\n",
              "        height: 32px;\n",
              "        padding: 0 0 0 0;\n",
              "        width: 32px;\n",
              "      }\n",
              "\n",
              "      .colab-df-generate:hover {\n",
              "        background-color: #E2EBFA;\n",
              "        box-shadow: 0px 1px 2px rgba(60, 64, 67, 0.3), 0px 1px 3px 1px rgba(60, 64, 67, 0.15);\n",
              "        fill: #174EA6;\n",
              "      }\n",
              "\n",
              "      [theme=dark] .colab-df-generate {\n",
              "        background-color: #3B4455;\n",
              "        fill: #D2E3FC;\n",
              "      }\n",
              "\n",
              "      [theme=dark] .colab-df-generate:hover {\n",
              "        background-color: #434B5C;\n",
              "        box-shadow: 0px 1px 3px 1px rgba(0, 0, 0, 0.15);\n",
              "        filter: drop-shadow(0px 1px 2px rgba(0, 0, 0, 0.3));\n",
              "        fill: #FFFFFF;\n",
              "      }\n",
              "    </style>\n",
              "    <button class=\"colab-df-generate\" onclick=\"generateWithVariable('df')\"\n",
              "            title=\"Generate code using this dataframe.\"\n",
              "            style=\"display:none;\">\n",
              "\n",
              "  <svg xmlns=\"http://www.w3.org/2000/svg\" height=\"24px\"viewBox=\"0 0 24 24\"\n",
              "       width=\"24px\">\n",
              "    <path d=\"M7,19H8.4L18.45,9,17,7.55,7,17.6ZM5,21V16.75L18.45,3.32a2,2,0,0,1,2.83,0l1.4,1.43a1.91,1.91,0,0,1,.58,1.4,1.91,1.91,0,0,1-.58,1.4L9.25,21ZM18.45,9,17,7.55Zm-12,3A5.31,5.31,0,0,0,4.9,8.1,5.31,5.31,0,0,0,1,6.5,5.31,5.31,0,0,0,4.9,4.9,5.31,5.31,0,0,0,6.5,1,5.31,5.31,0,0,0,8.1,4.9,5.31,5.31,0,0,0,12,6.5,5.46,5.46,0,0,0,6.5,12Z\"/>\n",
              "  </svg>\n",
              "    </button>\n",
              "    <script>\n",
              "      (() => {\n",
              "      const buttonEl =\n",
              "        document.querySelector('#id_0f57a199-f291-4bd3-991f-789b536aab42 button.colab-df-generate');\n",
              "      buttonEl.style.display =\n",
              "        google.colab.kernel.accessAllowed ? 'block' : 'none';\n",
              "\n",
              "      buttonEl.onclick = () => {\n",
              "        google.colab.notebook.generateWithVariable('df');\n",
              "      }\n",
              "      })();\n",
              "    </script>\n",
              "  </div>\n",
              "\n",
              "    </div>\n",
              "  </div>\n"
            ],
            "application/vnd.google.colaboratory.intrinsic+json": {
              "type": "dataframe",
              "variable_name": "df",
              "summary": "{\n  \"name\": \"df\",\n  \"rows\": 1458,\n  \"fields\": [\n    {\n      \"column\": \"all_material\",\n      \"properties\": {\n        \"dtype\": \"object\",\n        \"semantic_type\": \"\",\n        \"description\": \"\"\n      }\n    },\n    {\n      \"column\": \"material_positions\",\n      \"properties\": {\n        \"dtype\": \"object\",\n        \"semantic_type\": \"\",\n        \"description\": \"\"\n      }\n    },\n    {\n      \"column\": \"bandgaps\",\n      \"properties\": {\n        \"dtype\": \"number\",\n        \"std\": 0.9733379096531185,\n        \"min\": 0.0,\n        \"max\": 7.0604,\n        \"num_unique_values\": 226,\n        \"samples\": [\n          1.1346,\n          1.7362000000000002,\n          3.1954000000000002\n        ],\n        \"semantic_type\": \"\",\n        \"description\": \"\"\n      }\n    }\n  ]\n}"
            }
          },
          "metadata": {},
          "execution_count": 8
        }
      ]
    },
    {
      "cell_type": "code",
      "source": [
        "import numpy as np\n",
        "\n",
        "def find_wyckoff_1b_3c_indices(coords):\n",
        "    # Normalize and round for matching\n",
        "    rounded_coords = [tuple(np.round(np.array(c) % 1, 6)) for c in coords]\n",
        "\n",
        "    wyckoff_1b = (0.5, 0.5, 0.5)\n",
        "    wyckoff_3c_list = [\n",
        "        (0.5, 0.5, 0.0),\n",
        "        (0.5, 0.0, 0.5),\n",
        "        (0.0, 0.5, 0.5),\n",
        "    ]\n",
        "\n",
        "    # Find index of 1b\n",
        "    try:\n",
        "        i1b = rounded_coords.index(wyckoff_1b)\n",
        "    except ValueError:\n",
        "        i1b = None\n",
        "\n",
        "    # Find index of any 3c\n",
        "    i3c = None\n",
        "    for w3c in wyckoff_3c_list:\n",
        "        if w3c in rounded_coords:\n",
        "            i3c = rounded_coords.index(w3c)\n",
        "            break\n",
        "\n",
        "    both_found = i1b is not None and i3c is not None\n",
        "\n",
        "    return i1b, i3c, both_found"
      ],
      "metadata": {
        "id": "YP3n4ji0a31d"
      },
      "execution_count": 9,
      "outputs": []
    },
    {
      "cell_type": "code",
      "source": [
        "distances = []\n",
        "band_gaps = []\n",
        "for data in df.values:\n",
        "  pos1b, pos3c, both = find_wyckoff_1b_3c_indices(data[0])\n",
        "  if both:\n",
        "    distance = np.linalg.norm(data[1][pos1b] - data[1][pos3c])\n",
        "    distances.append(distance)\n",
        "    band_gaps.append(data[2])\n"
      ],
      "metadata": {
        "id": "LTRUqplEbizi"
      },
      "execution_count": 10,
      "outputs": []
    },
    {
      "cell_type": "code",
      "source": [
        "df = pd.DataFrame(list(zip(distances, band_gaps)),\n",
        "               columns =['distances', 'bandgaps'])"
      ],
      "metadata": {
        "id": "Ab480bGFcAE5"
      },
      "execution_count": 11,
      "outputs": []
    },
    {
      "cell_type": "code",
      "source": [
        "plt.figure(figsize=(10, 8))\n",
        "sns.heatmap(df.corr(numeric_only=True), annot=True, fmt=\".2f\", cmap=\"coolwarm\")\n",
        "plt.title(\"Correlation Matrix\")\n",
        "plt.show()"
      ],
      "metadata": {
        "id": "cXfYjj7qa5f_",
        "outputId": "441cc0f2-bfe8-4e2b-d009-8221a0b0d0f7",
        "colab": {
          "base_uri": "https://localhost:8080/",
          "height": 699
        }
      },
      "execution_count": 12,
      "outputs": [
        {
          "output_type": "display_data",
          "data": {
            "text/plain": [
              "<Figure size 1000x800 with 2 Axes>"
            ],
            "image/png": "[encoded data removed]"
          },
          "metadata": {}
        }
      ]
    },
    {
      "cell_type": "code",
      "source": [
        "# Compute correlation matrix\n",
        "corr = df.corr()\n",
        "\n",
        "# Extract values and labels\n",
        "values = corr.values\n",
        "labels = corr.columns.tolist()\n",
        "\n",
        "# Create custom color matrix\n",
        "colors = np.array([\n",
        "    ['blue' if i == j else 'yellow' for j in range(2)]\n",
        "    for i in range(2)\n",
        "])\n",
        "\n",
        "# Plot\n",
        "fig, ax = plt.subplots()\n",
        "\n",
        "for i in range(2):\n",
        "    for j in range(2):\n",
        "        ax.add_patch(plt.Rectangle((j, i), 1, 1, color=colors[i][j]))\n",
        "        ax.text(j + 0.5, i + 0.5, f\"{values[i, j]:.2f}\",\n",
        "                ha='center', va='center', color='black', fontsize=12)\n",
        "\n",
        "# Axis formatting\n",
        "ax.set_xlim(0, 2)\n",
        "ax.set_ylim(0, 2)\n",
        "ax.set_xticks([0.5, 1.5])\n",
        "ax.set_yticks([0.5, 1.5])\n",
        "ax.set_xticklabels(labels)\n",
        "ax.set_yticklabels(labels)\n",
        "ax.invert_yaxis()\n",
        "ax.set_aspect('equal')\n",
        "plt.title(\"Correlation Matrix\")\n",
        "plt.tight_layout()\n",
        "plt.show()"
      ],
      "metadata": {
        "id": "QAUonSNPg-X8",
        "outputId": "0427583b-769b-4dc5-d506-d1cccf983174",
        "colab": {
          "base_uri": "https://localhost:8080/",
          "height": 487
        }
      },
      "execution_count": 13,
      "outputs": [
        {
          "output_type": "display_data",
          "data": {
            "text/plain": [
              "<Figure size 640x480 with 1 Axes>"
            ],
            "image/png": "[encoded data removed]"
          },
          "metadata": {}
        }
      ]
    },
    {
      "cell_type": "code",
      "source": [
        "plt.scatter(distances, band_gaps)\n",
        "plt.xlabel(\"Distances between Wyckoff 1b and 2c\")\n",
        "plt.ylabel(\"Band Gaps \")\n",
        "plt.title(\"Scatter Plot spacegroup 221\")\n",
        "plt.show()\n"
      ],
      "metadata": {
        "id": "eapf1YuPhj2u",
        "outputId": "1b82a968-b07b-427a-e45e-525f279dead3",
        "colab": {
          "base_uri": "https://localhost:8080/",
          "height": 472
        }
      },
      "execution_count": 18,
      "outputs": [
        {
          "output_type": "display_data",
          "data": {
            "text/plain": [
              "<Figure size 640x480 with 1 Axes>"
            ],
            "image/png": "[encoded data removed]"
          },
          "metadata": {}
        }
      ]
    },
    {
      "cell_type": "code",
      "source": [
        "plt.scatter(distances, band_gaps)\n",
        "plt.xlabel(\"Distances between Wyckoff 1b and 2c\")\n",
        "plt.ylabel(\"Band Gaps \")\n",
        "plt.ylim(0 , .00001)\n",
        "plt.title(\"Scatter Plot spacegroup 221\")\n",
        "plt.show()\n"
      ],
      "metadata": {
        "id": "wA4_9KVKmHMz",
        "outputId": "e6ccfdec-86ec-4096-839d-ba6ddc68f034",
        "colab": {
          "base_uri": "https://localhost:8080/",
          "height": 472
        }
      },
      "execution_count": 24,
      "outputs": [
        {
          "output_type": "display_data",
          "data": {
            "text/plain": [
              "<Figure size 640x480 with 1 Axes>"
            ],
            "image/png": "[encoded data removed]"
          },
          "metadata": {}
        }
      ]
    },
    {
      "cell_type": "code",
      "source": [
        "check if all have 3 atoms in 3c\n",
        "electrons probably not"
      ],
      "metadata": {
        "id": "bP5GFzB0mxv0"
      },
      "execution_count": null,
      "outputs": []
    },
    {
      "cell_type": "markdown",
      "source": [
        "check if all have 3 atoms in 3c\n",
        "electrons probably not useful\n",
        "\n",
        "radius\n",
        "\n",
        "contributing electrons\n",
        "p for X\n",
        "and p and s for B"
      ],
      "metadata": {
        "id": "a6V2-0LJlTkB"
      }
    }
  ]
}